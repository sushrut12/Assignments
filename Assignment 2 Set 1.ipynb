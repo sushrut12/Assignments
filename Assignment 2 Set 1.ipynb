{
 "cells": [
  {
   "cell_type": "code",
   "execution_count": 9,
   "id": "ea691f48",
   "metadata": {},
   "outputs": [],
   "source": [
    "##Import library\n",
    "import matplotlib.pyplot as plt\n",
    "import pandas as pd\n",
    "import numpy as np\n",
    "import seaborn as sns\n",
    "import plotly.express as pe\n",
    "import scipy.stats as st\n",
    "from scipy.stats import skew\n",
    "from scipy.stats import kurtosis\n",
    "import warnings\n",
    "warnings.filterwarnings('ignore')\n",
    "%matplotlib inline\n",
    "plt.rcParams['figure.figsize'] = (10,5)\n",
    "plt.rcParams['figure.dpi'] = 200\n",
    "sns.set_theme(style='darkgrid')"
   ]
  },
  {
   "cell_type": "markdown",
   "id": "4b1e021d",
   "metadata": {},
   "source": [
    "### Q1. Look at the data given below. Plot the data, find the outliers and find out  μ, σ, 2"
   ]
  },
  {
   "cell_type": "code",
   "execution_count": 10,
   "id": "ecafc751",
   "metadata": {},
   "outputs": [],
   "source": [
    "# Example data\n",
    "data = {\n",
    "    'Name of Company': ['Allied Signal','Bankers Trust','General Mills','ITT Industries','J.P.Morgan & Co.','Lehman Brothers','Marriott','MCI','Merrill Lynch','Microsoft','Morgan Stanley','Sun Microsystems','Travelers','US Airways','Warner-Lambert',],\n",
    "    'Measure X': [24.23,25.53,25.41,24.14,29.62,28.25,25.81,24.39,40.26,32.95,91.36,25.99,39.42,26.71,35.00]\n",
    "    \n",
    "}\n",
    "\n",
    "# Creating a DataFrame\n",
    "df = pd.DataFrame(data)"
   ]
  },
  {
   "cell_type": "code",
   "execution_count": 11,
   "id": "50004b10",
   "metadata": {},
   "outputs": [
    {
     "data": {
      "text/html": [
       "<div>\n",
       "<style scoped>\n",
       "    .dataframe tbody tr th:only-of-type {\n",
       "        vertical-align: middle;\n",
       "    }\n",
       "\n",
       "    .dataframe tbody tr th {\n",
       "        vertical-align: top;\n",
       "    }\n",
       "\n",
       "    .dataframe thead th {\n",
       "        text-align: right;\n",
       "    }\n",
       "</style>\n",
       "<table border=\"1\" class=\"dataframe\">\n",
       "  <thead>\n",
       "    <tr style=\"text-align: right;\">\n",
       "      <th></th>\n",
       "      <th>Name of Company</th>\n",
       "      <th>Measure X</th>\n",
       "    </tr>\n",
       "  </thead>\n",
       "  <tbody>\n",
       "    <tr>\n",
       "      <th>0</th>\n",
       "      <td>Allied Signal</td>\n",
       "      <td>24.23</td>\n",
       "    </tr>\n",
       "    <tr>\n",
       "      <th>1</th>\n",
       "      <td>Bankers Trust</td>\n",
       "      <td>25.53</td>\n",
       "    </tr>\n",
       "    <tr>\n",
       "      <th>2</th>\n",
       "      <td>General Mills</td>\n",
       "      <td>25.41</td>\n",
       "    </tr>\n",
       "    <tr>\n",
       "      <th>3</th>\n",
       "      <td>ITT Industries</td>\n",
       "      <td>24.14</td>\n",
       "    </tr>\n",
       "    <tr>\n",
       "      <th>4</th>\n",
       "      <td>J.P.Morgan &amp; Co.</td>\n",
       "      <td>29.62</td>\n",
       "    </tr>\n",
       "    <tr>\n",
       "      <th>5</th>\n",
       "      <td>Lehman Brothers</td>\n",
       "      <td>28.25</td>\n",
       "    </tr>\n",
       "    <tr>\n",
       "      <th>6</th>\n",
       "      <td>Marriott</td>\n",
       "      <td>25.81</td>\n",
       "    </tr>\n",
       "    <tr>\n",
       "      <th>7</th>\n",
       "      <td>MCI</td>\n",
       "      <td>24.39</td>\n",
       "    </tr>\n",
       "    <tr>\n",
       "      <th>8</th>\n",
       "      <td>Merrill Lynch</td>\n",
       "      <td>40.26</td>\n",
       "    </tr>\n",
       "    <tr>\n",
       "      <th>9</th>\n",
       "      <td>Microsoft</td>\n",
       "      <td>32.95</td>\n",
       "    </tr>\n",
       "    <tr>\n",
       "      <th>10</th>\n",
       "      <td>Morgan Stanley</td>\n",
       "      <td>91.36</td>\n",
       "    </tr>\n",
       "    <tr>\n",
       "      <th>11</th>\n",
       "      <td>Sun Microsystems</td>\n",
       "      <td>25.99</td>\n",
       "    </tr>\n",
       "    <tr>\n",
       "      <th>12</th>\n",
       "      <td>Travelers</td>\n",
       "      <td>39.42</td>\n",
       "    </tr>\n",
       "    <tr>\n",
       "      <th>13</th>\n",
       "      <td>US Airways</td>\n",
       "      <td>26.71</td>\n",
       "    </tr>\n",
       "    <tr>\n",
       "      <th>14</th>\n",
       "      <td>Warner-Lambert</td>\n",
       "      <td>35.00</td>\n",
       "    </tr>\n",
       "  </tbody>\n",
       "</table>\n",
       "</div>"
      ],
      "text/plain": [
       "     Name of Company  Measure X\n",
       "0      Allied Signal      24.23\n",
       "1      Bankers Trust      25.53\n",
       "2      General Mills      25.41\n",
       "3     ITT Industries      24.14\n",
       "4   J.P.Morgan & Co.      29.62\n",
       "5    Lehman Brothers      28.25\n",
       "6           Marriott      25.81\n",
       "7                MCI      24.39\n",
       "8      Merrill Lynch      40.26\n",
       "9          Microsoft      32.95\n",
       "10    Morgan Stanley      91.36\n",
       "11  Sun Microsystems      25.99\n",
       "12         Travelers      39.42\n",
       "13        US Airways      26.71\n",
       "14    Warner-Lambert      35.00"
      ]
     },
     "execution_count": 11,
     "metadata": {},
     "output_type": "execute_result"
    }
   ],
   "source": [
    "df"
   ]
  },
  {
   "cell_type": "code",
   "execution_count": 12,
   "id": "ce8b14aa",
   "metadata": {},
   "outputs": [
    {
     "data": {
      "text/plain": [
       "33.27133333333333"
      ]
     },
     "execution_count": 12,
     "metadata": {},
     "output_type": "execute_result"
    }
   ],
   "source": [
    "# Calculate the population mean (μ)\n",
    "mean = df['Measure X'].mean()\n",
    "mean"
   ]
  },
  {
   "cell_type": "code",
   "execution_count": 13,
   "id": "33f895af",
   "metadata": {},
   "outputs": [
    {
     "data": {
      "text/plain": [
       "287.1466123809524"
      ]
     },
     "execution_count": 13,
     "metadata": {},
     "output_type": "execute_result"
    }
   ],
   "source": [
    "\n",
    "# Calculate the population variance (σ²)\n",
    "variance = df['Measure X'].var()\n",
    "variance"
   ]
  },
  {
   "cell_type": "code",
   "execution_count": 14,
   "id": "af574578",
   "metadata": {},
   "outputs": [
    {
     "data": {
      "text/plain": [
       "16.945400921222028"
      ]
     },
     "execution_count": 14,
     "metadata": {},
     "output_type": "execute_result"
    }
   ],
   "source": [
    "# Calculate the standard deviation (σ)\n",
    "standard_deviation = np.sqrt(variance)\n",
    "standard_deviation"
   ]
  },
  {
   "cell_type": "markdown",
   "id": "63c1596f",
   "metadata": {},
   "source": [
    "### Q2.\n",
    "Answer the following three questions based on the box-plot above.\n",
    "What is inter-quartile range of this dataset? (please approximate the numbers) In one line, explain what this value implies.\n",
    "What can we say about the skewness of this dataset?\n",
    "If it was found that the data point with the value 25 is actually 2.5, how would the new box-plot be affected?\n",
    "\n",
    "- Mathematically, the formula for the interquartile range is:\n",
    "IQR = Q3-Q1 = 12-5 = 7\n",
    "- The interquartile range (IQR) provides a measure of the dispersion of the middle 50% of the data in a dataset, giving insights into the spread of the central portion of the data distribution.\n",
    "- Right-Skewed Distribution: A skewness value above the median indicates a longer right tail in the distribution. This suggests that there might be a few extremely high values that are pulling the mean towards the right. In such cases:\n",
    "- The mean will be greater than the median.\n",
    "- The bulk of the data will be concentrated towards the lower values, while a few larger values will cause the distribution to skew towards the higher values.\n",
    "- The mode (most frequent value) will generally be less than the median and mean.\n",
    "- Potential Outliers: The presence of outliers or extreme values on the right side of the distribution can contribute to skewness above the median. These outliers can significantly affect the mean, causing it to be larger than the median.\n",
    "- Data Interpretation: In practical terms, a right-skewed distribution might require different handling in statistical analyses. For instance:\n",
    "- In some cases, median might be a more appropriate measure of central tendency compared to the mean due to the influence of extreme values.\n",
    "- It might be necessary to identify and handle outliers appropriately depending on the context of the analysis.\n",
    "- Histogram Visualization: A histogram or density plot of the data can visually depict the skewness. Right-skewed distributions will show a longer tail on the right side compared to the left side.\n",
    "- Skewness above the median doesn't just indicate a specific direction of skewness but rather a tendency toward more extreme values on the higher end of the distribution. Understanding the nature of skewness helps in appropriately interpreting and analyzing the dataset, especially when considering measures of central tendency and the distribution of the data.\n",
    "- Value 25 is an outlier if this turns out to be 2.5 then it will be a point to below mean and can give more symmetry to the data."
   ]
  },
  {
   "cell_type": "markdown",
   "id": "65405a1e",
   "metadata": {},
   "source": [
    "### Q3. \n",
    "1. Where would the mode of this dataset lie?\n",
    "    - The mode would lie towards left near value 5 \n",
    "2. Comment on the skewness of the dataset.\n",
    "    - Data is right skewed or positively skewed\n",
    "3. Suppose that the above histogram and the box-plot in question 2 are plotted for the same dataset. Explain how these graphs complement each other in providing information about any dataset. \n",
    "    - Both graphs show right skewed data and have mode to the left side with Mode>Median>Mean comparison\n"
   ]
  },
  {
   "cell_type": "code",
   "execution_count": 15,
   "id": "e1b9dbd4",
   "metadata": {},
   "outputs": [
    {
     "data": {
      "text/plain": [
       "<matplotlib.lines.Line2D at 0x12e77fd10>"
      ]
     },
     "execution_count": 15,
     "metadata": {},
     "output_type": "execute_result"
    },
    {
     "data": {
      "image/png": "[encoded data removed]",
      "text/plain": [
       "<Figure size 2000x1000 with 1 Axes>"
      ]
     },
     "metadata": {},
     "output_type": "display_data"
    }
   ],
   "source": [
    "df_median = df['Measure X'].median()\n",
    "plt.hist(df['Measure X'], edgecolor = 'black')\n",
    "plt.axvline(df_median, color = 'red')\n",
    "plt.axvline(df['Measure X'].mean(), color = 'yellow')"
   ]
  },
  {
   "cell_type": "markdown",
   "id": "970c92c9",
   "metadata": {},
   "source": [
    "### Q4.\n",
    "AT&T was running commercials in 1990 aimed at luring back customers who had switched to one of the other long-distance phone service providers. One such commercial shows a businessman trying to reach Phoenix and mistakenly getting Fiji, where a half-naked native on a beach responds incomprehensibly in Polynesian. When asked about this advertisement, AT&T admitted that the portrayed incident did not actually take place but added that this was an enactment of something that “could happen.” Suppose that one in 200 long-distance telephone calls is misdirected. What is the probability that at least one in five attempted telephone calls reaches the wrong number? (Assume independence of attempts.)"
   ]
  },
  {
   "cell_type": "code",
   "execution_count": 17,
   "id": "a889ecc0",
   "metadata": {},
   "outputs": [
    {
     "name": "stdout",
     "output_type": "stream",
     "text": [
      "The probability that at least one in five attempted calls reaches the wrong number: 0.02\n"
     ]
    }
   ],
   "source": [
    "# Probability of a single long-distance telephone call being misdirected\n",
    "p_single_call = 1 / 200\n",
    "\n",
    "# Probability that at least one in five attempted telephone calls reaches the wrong number\n",
    "p_at_least_one = 1 - (1 - p_single_call) ** 5\n",
    "\n",
    "Returns on a certain business venture, to the nearest $1,000, are known to follow the following probability distributionprint(f\"The probability that at least one in five attempted calls reaches the wrong number: {p_at_least_one:.2f}\")\n",
    "Returns on a certain business venture, to the nearest $1,000, are known to follow the following probability distribution"
   ]
  },
  {
   "cell_type": "markdown",
   "id": "a194b659",
   "metadata": {},
   "source": [
    "\n",
    "\n",
    "\n",
    "| X | P(X) |\n",
    "| -------------------- | -------------------- |\n",
    "| -2,000 | 0.1 |\n",
    "| -1,000 | 0.1 |\n",
    "| 0 | 0.2 |\n",
    "| 1000 | 0.2 |\n",
    "| 2000 | 0.3 |\n",
    "| 3000 | 0.1 |\n",
    "\n",
    "\n"
   ]
  },
  {
   "cell_type": "code",
   "execution_count": 18,
   "id": "faa3cff2",
   "metadata": {},
   "outputs": [
    {
     "name": "stdout",
     "output_type": "stream",
     "text": [
      "The most likely monetary outcome of the business venture: $2000\n"
     ]
    }
   ],
   "source": [
    "# Given probability distribution\n",
    "outcomes = [-2000, -1000, 0, 1000, 2000, 3000]\n",
    "probabilities = [0.1, 0.1, 0.2, 0.2, 0.3, 0.1]\n",
    "\n",
    "# Find the index of the maximum probability\n",
    "max_probability_index = probabilities.index(max(probabilities))\n",
    "\n",
    "# Get the most likely monetary outcome corresponding to the maximum probability\n",
    "most_likely_outcome = outcomes[max_probability_index]\n",
    "\n",
    "print(f\"The most likely monetary outcome of the business venture: ${most_likely_outcome}\")\n"
   ]
  },
  {
   "cell_type": "markdown",
   "id": "359fc11a",
   "metadata": {},
   "source": [
    "- Is the venture likely to be successful? Explain\n",
    "    - Given the provided probability distribution, while there are chances of positive outcomes (1000, 2000, and 3000) with relatively higher probabilities, the success of the venture is subjective and depends on the specific goals, risk tolerance, and expectations of the stakeholders involved. It would be necessary to weigh the potential gains against the potential losses and consider individual perspectives on what constitutes success in this context."
   ]
  },
  {
   "cell_type": "code",
   "execution_count": 19,
   "id": "3f729aff",
   "metadata": {},
   "outputs": [
    {
     "name": "stdout",
     "output_type": "stream",
     "text": [
      "The long-term average earnings of the business venture: $800.0\n"
     ]
    }
   ],
   "source": [
    "# Given probability distribution\n",
    "outcomes = [-2000, -1000, 0, 1000, 2000, 3000]\n",
    "probabilities = [0.1, 0.1, 0.2, 0.2, 0.3, 0.1]\n",
    "\n",
    "# Calculate the expected value or long-term average earnings\n",
    "expected_value = sum(outcome * probability for outcome, probability in zip(outcomes, probabilities))\n",
    "\n",
    "print(f\"The long-term average earnings of the business venture: ${expected_value}\")\n"
   ]
  },
  {
   "cell_type": "markdown",
   "id": "7dcccdb9",
   "metadata": {},
   "source": [
    "- What is the long-term average earning of business ventures of this kind? Explain\n",
    "    - This code calculates the expected value by multiplying each earnings outcome by its respective probability, summing the products, and obtaining the long-term average earnings of the business venture. The expected value provides an estimate of the average earnings over the long term, considering the probabilities associated with each possible outcome. It represents the mean or average outcome that can be expected if the venture is repeated over a large number of trials."
   ]
  },
  {
   "cell_type": "code",
   "execution_count": 20,
   "id": "43583eb9",
   "metadata": {},
   "outputs": [
    {
     "name": "stdout",
     "output_type": "stream",
     "text": [
      "The standard deviation (measure of risk) in the venture: $1469.69\n"
     ]
    }
   ],
   "source": [
    "import math\n",
    "\n",
    "# Given probability distribution\n",
    "outcomes = [-2000, -1000, 0, 1000, 2000, 3000]\n",
    "probabilities = [0.1, 0.1, 0.2, 0.2, 0.3, 0.1]\n",
    "\n",
    "# Calculate the expected value or mean earnings\n",
    "expected_value = sum(outcome * probability for outcome, probability in zip(outcomes, probabilities))\n",
    "\n",
    "# Calculate the standard deviation\n",
    "variance = sum(probability * (outcome - expected_value) ** 2 for outcome, probability in zip(outcomes, probabilities))\n",
    "standard_deviation = math.sqrt(variance)\n",
    "\n",
    "print(f\"The standard deviation (measure of risk) in the venture: ${standard_deviation:.2f}\")\n"
   ]
  },
  {
   "cell_type": "markdown",
   "id": "46e1939c",
   "metadata": {},
   "source": [
    "- What is the good measure of the risk involved in a venture of this kind? Compute this measure\n",
    "    - This code calculates the standard deviation, which represents the measure of risk involved in the business venture. A higher standard deviation indicates greater variability or risk associated with potential outcomes, while a lower standard deviation suggests less variability or risk.\n"
   ]
  },
  {
   "cell_type": "code",
   "execution_count": null,
   "id": "8a315587",
   "metadata": {},
   "outputs": [],
   "source": []
  }
 ],
 "metadata": {
  "kernelspec": {
   "display_name": "Python 3 (ipykernel)",
   "language": "python",
   "name": "python3"
  },
  "language_info": {
   "codemirror_mode": {
    "name": "ipython",
    "version": 3
   },
   "file_extension": ".py",
   "mimetype": "text/x-python",
   "name": "python",
   "nbconvert_exporter": "python",
   "pygments_lexer": "ipython3",
   "version": "3.11.4"
  }
 },
 "nbformat": 4,
 "nbformat_minor": 5
}
