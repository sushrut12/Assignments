{
 "cells": [
  {
   "cell_type": "markdown",
   "id": "e4d1a026",
   "metadata": {},
   "source": [
    "# Variables in Python\n",
    "- Variables acts as a container to store data in memory space.\n",
    "- Variables are pointer towards object in python\n",
    "- Variables can start with letters or underscore.\n",
    "- You cannot include special characters while creating a variable.\n",
    "\n",
    "**Important points to remeber while creating a variable**\n",
    "1. Python is case sensitive\n",
    "2. If variable name involves more than 2 words, join those words with underscore.\n",
    "3. Give meaningful name to variables"
   ]
  },
  {
   "cell_type": "code",
   "execution_count": 1,
   "id": "2b985c75",
   "metadata": {
    "ExecuteTime": {
     "end_time": "2023-07-01T11:10:11.747166Z",
     "start_time": "2023-07-01T11:10:11.719201Z"
    }
   },
   "outputs": [
    {
     "data": {
      "text/plain": [
       "58"
      ]
     },
     "execution_count": 1,
     "metadata": {},
     "output_type": "execute_result"
    }
   ],
   "source": [
    "#variable\n",
    "3+55"
   ]
  },
  {
   "cell_type": "code",
   "execution_count": 2,
   "id": "46ee39cf",
   "metadata": {
    "ExecuteTime": {
     "end_time": "2023-07-01T11:15:10.926025Z",
     "start_time": "2023-07-01T11:15:10.910651Z"
    }
   },
   "outputs": [],
   "source": [
    "a = 3+55"
   ]
  },
  {
   "cell_type": "code",
   "execution_count": 3,
   "id": "60a25df8",
   "metadata": {
    "ExecuteTime": {
     "end_time": "2023-07-01T11:15:27.699651Z",
     "start_time": "2023-07-01T11:15:27.678728Z"
    }
   },
   "outputs": [
    {
     "data": {
      "text/plain": [
       "58"
      ]
     },
     "execution_count": 3,
     "metadata": {},
     "output_type": "execute_result"
    }
   ],
   "source": [
    "a"
   ]
  },
  {
   "cell_type": "code",
   "execution_count": 4,
   "id": "eea24328",
   "metadata": {
    "ExecuteTime": {
     "end_time": "2023-07-01T11:16:53.116370Z",
     "start_time": "2023-07-01T11:16:53.105520Z"
    }
   },
   "outputs": [
    {
     "data": {
      "text/plain": [
       "3107569750160"
      ]
     },
     "execution_count": 4,
     "metadata": {},
     "output_type": "execute_result"
    }
   ],
   "source": [
    "id(a)"
   ]
  },
  {
   "cell_type": "code",
   "execution_count": 5,
   "id": "2170ef19",
   "metadata": {
    "ExecuteTime": {
     "end_time": "2023-07-01T11:17:30.375897Z",
     "start_time": "2023-07-01T11:17:30.358260Z"
    }
   },
   "outputs": [],
   "source": [
    "_ten = 10"
   ]
  },
  {
   "cell_type": "code",
   "execution_count": 6,
   "id": "2cad6aeb",
   "metadata": {
    "ExecuteTime": {
     "end_time": "2023-07-01T11:17:42.899861Z",
     "start_time": "2023-07-01T11:17:42.880190Z"
    }
   },
   "outputs": [
    {
     "ename": "SyntaxError",
     "evalue": "invalid syntax (1153786664.py, line 1)",
     "output_type": "error",
     "traceback": [
      "\u001b[1;36m  File \u001b[1;32m\"C:\\Users\\Aishwarya\\AppData\\Local\\Temp\\ipykernel_15840\\1153786664.py\"\u001b[1;36m, line \u001b[1;32m1\u001b[0m\n\u001b[1;33m    1ten = 100\u001b[0m\n\u001b[1;37m     ^\u001b[0m\n\u001b[1;31mSyntaxError\u001b[0m\u001b[1;31m:\u001b[0m invalid syntax\n"
     ]
    }
   ],
   "source": [
    "1ten = 100"
   ]
  },
  {
   "cell_type": "code",
   "execution_count": 7,
   "id": "608206cf",
   "metadata": {
    "ExecuteTime": {
     "end_time": "2023-07-01T11:18:14.250299Z",
     "start_time": "2023-07-01T11:18:14.232158Z"
    }
   },
   "outputs": [
    {
     "ename": "SyntaxError",
     "evalue": "invalid syntax (1043439745.py, line 1)",
     "output_type": "error",
     "traceback": [
      "\u001b[1;36m  File \u001b[1;32m\"C:\\Users\\Aishwarya\\AppData\\Local\\Temp\\ipykernel_15840\\1043439745.py\"\u001b[1;36m, line \u001b[1;32m1\u001b[0m\n\u001b[1;33m    two@ = 20\u001b[0m\n\u001b[1;37m         ^\u001b[0m\n\u001b[1;31mSyntaxError\u001b[0m\u001b[1;31m:\u001b[0m invalid syntax\n"
     ]
    }
   ],
   "source": [
    "two@ = 20"
   ]
  },
  {
   "cell_type": "code",
   "execution_count": null,
   "id": "664c2728",
   "metadata": {
    "ExecuteTime": {
     "end_time": "2022-11-08T07:56:37.946515Z",
     "start_time": "2022-11-08T07:56:37.935394Z"
    }
   },
   "outputs": [],
   "source": [
    "#Single line comment"
   ]
  },
  {
   "cell_type": "code",
   "execution_count": 9,
   "id": "91c3d50c",
   "metadata": {
    "ExecuteTime": {
     "end_time": "2023-07-01T11:20:13.656780Z",
     "start_time": "2023-07-01T11:20:13.646624Z"
    }
   },
   "outputs": [
    {
     "data": {
      "text/plain": [
       "40"
      ]
     },
     "execution_count": 9,
     "metadata": {},
     "output_type": "execute_result"
    }
   ],
   "source": [
    "age = 40 #This age variable stores age of person.\n",
    "age"
   ]
  },
  {
   "cell_type": "code",
   "execution_count": 12,
   "id": "159d6f1b",
   "metadata": {
    "ExecuteTime": {
     "end_time": "2023-07-01T11:22:22.350748Z",
     "start_time": "2023-07-01T11:22:22.335448Z"
    }
   },
   "outputs": [
    {
     "data": {
      "text/plain": [
       "'This is first line\\nThis is second line\\nThis is third line'"
      ]
     },
     "execution_count": 12,
     "metadata": {},
     "output_type": "execute_result"
    }
   ],
   "source": [
    "#Multi-line comment\n",
    "\n",
    "'''This is first line\n",
    "This is second line\n",
    "This is third line'''"
   ]
  },
  {
   "cell_type": "markdown",
   "id": "845da50d",
   "metadata": {},
   "source": [
    "# Operators in Python\n",
    "\n",
    "1. Arithmetic operators (+,-,*,/,%)\n",
    "2. Comparison operators (==,!=,<,>, <=,>=)\n",
    "3. Logical operators (and, or)\n",
    "4. Identity operators (is, is not)\n",
    "5. Membership Operators (in, not in)"
   ]
  },
  {
   "cell_type": "markdown",
   "id": "369ea27c",
   "metadata": {},
   "source": [
    "**Arithmetic Operators**"
   ]
  },
  {
   "cell_type": "code",
   "execution_count": 13,
   "id": "82688993",
   "metadata": {
    "ExecuteTime": {
     "end_time": "2023-07-01T11:27:46.601881Z",
     "start_time": "2023-07-01T11:27:46.592076Z"
    }
   },
   "outputs": [],
   "source": [
    "a = 95\n",
    "b = 85"
   ]
  },
  {
   "cell_type": "code",
   "execution_count": 15,
   "id": "04245b84",
   "metadata": {
    "ExecuteTime": {
     "end_time": "2023-07-01T11:28:56.162045Z",
     "start_time": "2023-07-01T11:28:56.149721Z"
    },
    "collapsed": true
   },
   "outputs": [
    {
     "name": "stdout",
     "output_type": "stream",
     "text": [
      "180\n",
      "10\n",
      "1.1176470588235294\n",
      "10\n",
      "1277928187479933990465848803692722277644443761426897197331399161341090629742373914335718769740772464925096920903948343454080579205400791664715143269859254360198974609375\n",
      "8075\n"
     ]
    }
   ],
   "source": [
    "print(a+b)\n",
    "print(a-b)\n",
    "print(a/b) #Returns quotient\n",
    "print(a%b) #Returns remainder\n",
    "print(a**b)\n",
    "print(a*b)"
   ]
  },
  {
   "cell_type": "code",
   "execution_count": 17,
   "id": "499277b9",
   "metadata": {
    "ExecuteTime": {
     "end_time": "2023-07-01T11:30:03.395425Z",
     "start_time": "2023-07-01T11:30:03.375519Z"
    },
    "collapsed": true
   },
   "outputs": [
    {
     "name": "stdout",
     "output_type": "stream",
     "text": [
      "180\n"
     ]
    },
    {
     "data": {
      "text/plain": [
       "10"
      ]
     },
     "execution_count": 17,
     "metadata": {},
     "output_type": "execute_result"
    }
   ],
   "source": [
    "print(a+b)\n",
    "a-b"
   ]
  },
  {
   "cell_type": "markdown",
   "id": "f15da91f",
   "metadata": {},
   "source": [
    "**Comparison Operators**"
   ]
  },
  {
   "cell_type": "code",
   "execution_count": 18,
   "id": "72e2e9e1",
   "metadata": {
    "ExecuteTime": {
     "end_time": "2023-07-01T11:30:27.759556Z",
     "start_time": "2023-07-01T11:30:27.741035Z"
    }
   },
   "outputs": [
    {
     "data": {
      "text/plain": [
       "(95, 85)"
      ]
     },
     "execution_count": 18,
     "metadata": {},
     "output_type": "execute_result"
    }
   ],
   "source": [
    "a,b"
   ]
  },
  {
   "cell_type": "code",
   "execution_count": 19,
   "id": "535a299b",
   "metadata": {
    "ExecuteTime": {
     "end_time": "2023-07-01T11:31:27.399913Z",
     "start_time": "2023-07-01T11:31:27.383230Z"
    }
   },
   "outputs": [
    {
     "data": {
      "text/plain": [
       "False"
      ]
     },
     "execution_count": 19,
     "metadata": {},
     "output_type": "execute_result"
    }
   ],
   "source": [
    "a == b"
   ]
  },
  {
   "cell_type": "code",
   "execution_count": 20,
   "id": "eccf8e92",
   "metadata": {
    "ExecuteTime": {
     "end_time": "2023-07-01T11:31:44.130434Z",
     "start_time": "2023-07-01T11:31:44.118987Z"
    }
   },
   "outputs": [
    {
     "data": {
      "text/plain": [
       "True"
      ]
     },
     "execution_count": 20,
     "metadata": {},
     "output_type": "execute_result"
    }
   ],
   "source": [
    "a != b"
   ]
  },
  {
   "cell_type": "code",
   "execution_count": 21,
   "id": "86511a7f",
   "metadata": {
    "ExecuteTime": {
     "end_time": "2023-07-01T11:31:49.042522Z",
     "start_time": "2023-07-01T11:31:49.034673Z"
    }
   },
   "outputs": [
    {
     "data": {
      "text/plain": [
       "False"
      ]
     },
     "execution_count": 21,
     "metadata": {},
     "output_type": "execute_result"
    }
   ],
   "source": [
    "a < b"
   ]
  },
  {
   "cell_type": "code",
   "execution_count": 22,
   "id": "fc112002",
   "metadata": {
    "ExecuteTime": {
     "end_time": "2023-07-01T11:31:58.038650Z",
     "start_time": "2023-07-01T11:31:58.018954Z"
    }
   },
   "outputs": [
    {
     "data": {
      "text/plain": [
       "True"
      ]
     },
     "execution_count": 22,
     "metadata": {},
     "output_type": "execute_result"
    }
   ],
   "source": [
    "a > b"
   ]
  },
  {
   "cell_type": "markdown",
   "id": "8e2f057c",
   "metadata": {},
   "source": [
    "**Logical Operators**"
   ]
  },
  {
   "cell_type": "code",
   "execution_count": 23,
   "id": "da92eb4d",
   "metadata": {
    "ExecuteTime": {
     "end_time": "2023-07-01T11:32:38.800663Z",
     "start_time": "2023-07-01T11:32:38.783430Z"
    }
   },
   "outputs": [],
   "source": [
    "x = 10\n",
    "y = 25"
   ]
  },
  {
   "cell_type": "code",
   "execution_count": 25,
   "id": "2da9efe9",
   "metadata": {
    "ExecuteTime": {
     "end_time": "2023-07-01T11:34:09.281339Z",
     "start_time": "2023-07-01T11:34:09.265512Z"
    }
   },
   "outputs": [
    {
     "data": {
      "text/plain": [
       "False"
      ]
     },
     "execution_count": 25,
     "metadata": {},
     "output_type": "execute_result"
    }
   ],
   "source": [
    "x > y and x > 50"
   ]
  },
  {
   "cell_type": "code",
   "execution_count": 26,
   "id": "b4e2e481",
   "metadata": {
    "ExecuteTime": {
     "end_time": "2023-07-01T11:35:14.019746Z",
     "start_time": "2023-07-01T11:35:14.012126Z"
    }
   },
   "outputs": [
    {
     "data": {
      "text/plain": [
       "False"
      ]
     },
     "execution_count": 26,
     "metadata": {},
     "output_type": "execute_result"
    }
   ],
   "source": [
    "x < y and x > 50"
   ]
  },
  {
   "cell_type": "code",
   "execution_count": 27,
   "id": "5e0fc5c9",
   "metadata": {
    "ExecuteTime": {
     "end_time": "2023-07-01T11:35:42.686055Z",
     "start_time": "2023-07-01T11:35:42.662755Z"
    }
   },
   "outputs": [
    {
     "data": {
      "text/plain": [
       "True"
      ]
     },
     "execution_count": 27,
     "metadata": {},
     "output_type": "execute_result"
    }
   ],
   "source": [
    "x < y or x > 50"
   ]
  },
  {
   "cell_type": "markdown",
   "id": "6d996fbb",
   "metadata": {},
   "source": [
    "**Identity Operators**"
   ]
  },
  {
   "cell_type": "code",
   "execution_count": 28,
   "id": "a1989587",
   "metadata": {
    "ExecuteTime": {
     "end_time": "2023-07-01T11:36:12.663387Z",
     "start_time": "2023-07-01T11:36:12.656067Z"
    }
   },
   "outputs": [
    {
     "data": {
      "text/plain": [
       "(10, 25)"
      ]
     },
     "execution_count": 28,
     "metadata": {},
     "output_type": "execute_result"
    }
   ],
   "source": [
    "x,y"
   ]
  },
  {
   "cell_type": "code",
   "execution_count": 29,
   "id": "e9d3021a",
   "metadata": {
    "ExecuteTime": {
     "end_time": "2023-07-01T11:36:22.025177Z",
     "start_time": "2023-07-01T11:36:22.005139Z"
    }
   },
   "outputs": [
    {
     "data": {
      "text/plain": [
       "False"
      ]
     },
     "execution_count": 29,
     "metadata": {},
     "output_type": "execute_result"
    }
   ],
   "source": [
    "x is y"
   ]
  },
  {
   "cell_type": "code",
   "execution_count": 30,
   "id": "70797fe6",
   "metadata": {
    "ExecuteTime": {
     "end_time": "2023-07-01T11:36:32.463268Z",
     "start_time": "2023-07-01T11:36:32.454513Z"
    }
   },
   "outputs": [
    {
     "data": {
      "text/plain": [
       "True"
      ]
     },
     "execution_count": 30,
     "metadata": {},
     "output_type": "execute_result"
    }
   ],
   "source": [
    "x is not y"
   ]
  },
  {
   "cell_type": "markdown",
   "id": "4b8c40d0",
   "metadata": {},
   "source": [
    "**Membership Operators**"
   ]
  },
  {
   "cell_type": "code",
   "execution_count": 31,
   "id": "17e9be22",
   "metadata": {
    "ExecuteTime": {
     "end_time": "2023-07-01T11:37:26.385653Z",
     "start_time": "2023-07-01T11:37:26.375757Z"
    }
   },
   "outputs": [],
   "source": [
    "course = 'Data Science'"
   ]
  },
  {
   "cell_type": "code",
   "execution_count": 32,
   "id": "fb1ed480",
   "metadata": {
    "ExecuteTime": {
     "end_time": "2023-07-01T11:37:50.761461Z",
     "start_time": "2023-07-01T11:37:50.751653Z"
    }
   },
   "outputs": [
    {
     "data": {
      "text/plain": [
       "True"
      ]
     },
     "execution_count": 32,
     "metadata": {},
     "output_type": "execute_result"
    }
   ],
   "source": [
    "'D' in course"
   ]
  },
  {
   "cell_type": "code",
   "execution_count": 33,
   "id": "e7c2b8ba",
   "metadata": {
    "ExecuteTime": {
     "end_time": "2023-07-01T11:38:03.267308Z",
     "start_time": "2023-07-01T11:38:03.249843Z"
    }
   },
   "outputs": [
    {
     "data": {
      "text/plain": [
       "False"
      ]
     },
     "execution_count": 33,
     "metadata": {},
     "output_type": "execute_result"
    }
   ],
   "source": [
    "'d' in course"
   ]
  },
  {
   "cell_type": "code",
   "execution_count": 34,
   "id": "4713613f",
   "metadata": {
    "ExecuteTime": {
     "end_time": "2023-07-01T11:38:15.692418Z",
     "start_time": "2023-07-01T11:38:15.671321Z"
    }
   },
   "outputs": [
    {
     "data": {
      "text/plain": [
       "True"
      ]
     },
     "execution_count": 34,
     "metadata": {},
     "output_type": "execute_result"
    }
   ],
   "source": [
    "' ' in course"
   ]
  },
  {
   "cell_type": "code",
   "execution_count": 35,
   "id": "4ec4f848",
   "metadata": {
    "ExecuteTime": {
     "end_time": "2023-07-01T11:38:26.872795Z",
     "start_time": "2023-07-01T11:38:26.862983Z"
    }
   },
   "outputs": [
    {
     "data": {
      "text/plain": [
       "True"
      ]
     },
     "execution_count": 35,
     "metadata": {},
     "output_type": "execute_result"
    }
   ],
   "source": [
    "'Data' in course"
   ]
  },
  {
   "cell_type": "code",
   "execution_count": 37,
   "id": "361ed9e4",
   "metadata": {
    "ExecuteTime": {
     "end_time": "2023-07-01T11:39:02.855579Z",
     "start_time": "2023-07-01T11:39:02.840613Z"
    }
   },
   "outputs": [
    {
     "data": {
      "text/plain": [
       "True"
      ]
     },
     "execution_count": 37,
     "metadata": {},
     "output_type": "execute_result"
    }
   ],
   "source": [
    "'y' not in course"
   ]
  },
  {
   "cell_type": "markdown",
   "id": "72a732b2",
   "metadata": {},
   "source": [
    "# Data types in python\n",
    "1. Integer\n",
    "2. Float\n",
    "3. String\n",
    "4. Boolean"
   ]
  },
  {
   "cell_type": "code",
   "execution_count": 38,
   "id": "85545b8e",
   "metadata": {
    "ExecuteTime": {
     "end_time": "2023-07-01T11:40:26.448013Z",
     "start_time": "2023-07-01T11:40:26.435714Z"
    }
   },
   "outputs": [],
   "source": [
    "#Integer\n",
    "pin_code = 110021"
   ]
  },
  {
   "cell_type": "code",
   "execution_count": 39,
   "id": "bdc54922",
   "metadata": {
    "ExecuteTime": {
     "end_time": "2023-07-01T11:40:29.413612Z",
     "start_time": "2023-07-01T11:40:29.394775Z"
    }
   },
   "outputs": [
    {
     "data": {
      "text/plain": [
       "110021"
      ]
     },
     "execution_count": 39,
     "metadata": {},
     "output_type": "execute_result"
    }
   ],
   "source": [
    "pin_code"
   ]
  },
  {
   "cell_type": "code",
   "execution_count": 40,
   "id": "927ccfe9",
   "metadata": {
    "ExecuteTime": {
     "end_time": "2023-07-01T11:40:56.677338Z",
     "start_time": "2023-07-01T11:40:56.655105Z"
    }
   },
   "outputs": [
    {
     "data": {
      "text/plain": [
       "int"
      ]
     },
     "execution_count": 40,
     "metadata": {},
     "output_type": "execute_result"
    }
   ],
   "source": [
    "type(pin_code)"
   ]
  },
  {
   "cell_type": "code",
   "execution_count": null,
   "id": "7dd85e20",
   "metadata": {
    "ExecuteTime": {
     "end_time": "2022-11-23T04:57:25.871495Z",
     "start_time": "2022-11-23T04:57:25.856499Z"
    }
   },
   "outputs": [],
   "source": [
    "#String creation"
   ]
  },
  {
   "cell_type": "code",
   "execution_count": 41,
   "id": "8c1d4774",
   "metadata": {
    "ExecuteTime": {
     "end_time": "2023-07-01T11:42:44.281634Z",
     "start_time": "2023-07-01T11:42:44.264968Z"
    }
   },
   "outputs": [],
   "source": [
    "s = 'We are learning python'\n",
    "s1 = \"We are learning python\"\n",
    "s2 = '''We are learning python'''"
   ]
  },
  {
   "cell_type": "code",
   "execution_count": 42,
   "id": "f2fbad46",
   "metadata": {
    "ExecuteTime": {
     "end_time": "2023-07-01T11:43:04.345916Z",
     "start_time": "2023-07-01T11:43:04.333524Z"
    }
   },
   "outputs": [
    {
     "data": {
      "text/plain": [
       "True"
      ]
     },
     "execution_count": 42,
     "metadata": {},
     "output_type": "execute_result"
    }
   ],
   "source": [
    "s==s1"
   ]
  },
  {
   "cell_type": "code",
   "execution_count": 43,
   "id": "9b89cdbe",
   "metadata": {
    "ExecuteTime": {
     "end_time": "2023-07-01T11:43:13.955664Z",
     "start_time": "2023-07-01T11:43:13.946703Z"
    }
   },
   "outputs": [
    {
     "data": {
      "text/plain": [
       "True"
      ]
     },
     "execution_count": 43,
     "metadata": {},
     "output_type": "execute_result"
    }
   ],
   "source": [
    "s1==s2"
   ]
  },
  {
   "cell_type": "code",
   "execution_count": 45,
   "id": "95adac3a",
   "metadata": {
    "ExecuteTime": {
     "end_time": "2023-07-01T11:44:41.354125Z",
     "start_time": "2023-07-01T11:44:41.343387Z"
    },
    "collapsed": true
   },
   "outputs": [
    {
     "ename": "SyntaxError",
     "evalue": "invalid syntax (2799691787.py, line 1)",
     "output_type": "error",
     "traceback": [
      "\u001b[1;36m  File \u001b[1;32m\"C:\\Users\\Aishwarya\\AppData\\Local\\Temp\\ipykernel_15840\\2799691787.py\"\u001b[1;36m, line \u001b[1;32m1\u001b[0m\n\u001b[1;33m    s3 = 'It's a laptop'\u001b[0m\n\u001b[1;37m             ^\u001b[0m\n\u001b[1;31mSyntaxError\u001b[0m\u001b[1;31m:\u001b[0m invalid syntax\n"
     ]
    }
   ],
   "source": [
    "s3 = 'It's a laptop'"
   ]
  },
  {
   "cell_type": "code",
   "execution_count": 46,
   "id": "d9d4b139",
   "metadata": {
    "ExecuteTime": {
     "end_time": "2023-07-01T11:45:25.554234Z",
     "start_time": "2023-07-01T11:45:25.550185Z"
    }
   },
   "outputs": [],
   "source": [
    "s3 = \"It's a laptop\""
   ]
  },
  {
   "cell_type": "code",
   "execution_count": 47,
   "id": "e438f830",
   "metadata": {
    "ExecuteTime": {
     "end_time": "2023-07-01T11:46:24.999529Z",
     "start_time": "2023-07-01T11:46:24.983113Z"
    }
   },
   "outputs": [
    {
     "data": {
      "text/plain": [
       "str"
      ]
     },
     "execution_count": 47,
     "metadata": {},
     "output_type": "execute_result"
    }
   ],
   "source": [
    "type(s)"
   ]
  },
  {
   "cell_type": "code",
   "execution_count": 48,
   "id": "ce4237f7",
   "metadata": {
    "ExecuteTime": {
     "end_time": "2023-07-01T11:46:46.365531Z",
     "start_time": "2023-07-01T11:46:46.358471Z"
    }
   },
   "outputs": [
    {
     "data": {
      "text/plain": [
       "str"
      ]
     },
     "execution_count": 48,
     "metadata": {},
     "output_type": "execute_result"
    }
   ],
   "source": [
    "num = '100'\n",
    "type(num)"
   ]
  },
  {
   "cell_type": "code",
   "execution_count": 49,
   "id": "1cd27d6c",
   "metadata": {
    "ExecuteTime": {
     "end_time": "2023-07-01T11:47:20.079866Z",
     "start_time": "2023-07-01T11:47:20.064484Z"
    }
   },
   "outputs": [
    {
     "data": {
      "text/plain": [
       "float"
      ]
     },
     "execution_count": 49,
     "metadata": {},
     "output_type": "execute_result"
    }
   ],
   "source": [
    "temp = 25.2\n",
    "type(temp)"
   ]
  },
  {
   "cell_type": "code",
   "execution_count": 50,
   "id": "88957738",
   "metadata": {
    "ExecuteTime": {
     "end_time": "2023-07-01T11:47:47.331544Z",
     "start_time": "2023-07-01T11:47:47.320887Z"
    }
   },
   "outputs": [
    {
     "data": {
      "text/plain": [
       "bool"
      ]
     },
     "execution_count": 50,
     "metadata": {},
     "output_type": "execute_result"
    }
   ],
   "source": [
    "b = True\n",
    "type(b)"
   ]
  },
  {
   "cell_type": "code",
   "execution_count": 51,
   "id": "9474ce2b",
   "metadata": {
    "ExecuteTime": {
     "end_time": "2023-07-01T11:47:58.176176Z",
     "start_time": "2023-07-01T11:47:57.923332Z"
    },
    "collapsed": true
   },
   "outputs": [
    {
     "ename": "NameError",
     "evalue": "name 'true' is not defined",
     "output_type": "error",
     "traceback": [
      "\u001b[1;31m---------------------------------------------------------------------------\u001b[0m",
      "\u001b[1;31mNameError\u001b[0m                                 Traceback (most recent call last)",
      "\u001b[1;32m~\\AppData\\Local\\Temp\\ipykernel_15840\\2956557982.py\u001b[0m in \u001b[0;36m<module>\u001b[1;34m\u001b[0m\n\u001b[1;32m----> 1\u001b[1;33m \u001b[0mb1\u001b[0m \u001b[1;33m=\u001b[0m \u001b[0mtrue\u001b[0m\u001b[1;33m\u001b[0m\u001b[1;33m\u001b[0m\u001b[0m\n\u001b[0m",
      "\u001b[1;31mNameError\u001b[0m: name 'true' is not defined"
     ]
    }
   ],
   "source": [
    "b1 = true"
   ]
  },
  {
   "cell_type": "markdown",
   "id": "6c46cfad",
   "metadata": {},
   "source": [
    "# Typecasting\n",
    "\n",
    "- Typecasting is used to change the data types."
   ]
  },
  {
   "cell_type": "code",
   "execution_count": 52,
   "id": "e74aa1ba",
   "metadata": {
    "ExecuteTime": {
     "end_time": "2023-07-01T11:52:31.171780Z",
     "start_time": "2023-07-01T11:52:31.159387Z"
    }
   },
   "outputs": [
    {
     "data": {
      "text/plain": [
       "int"
      ]
     },
     "execution_count": 52,
     "metadata": {},
     "output_type": "execute_result"
    }
   ],
   "source": [
    "age = 60\n",
    "type(age)"
   ]
  },
  {
   "cell_type": "code",
   "execution_count": 53,
   "id": "f9f07597",
   "metadata": {
    "ExecuteTime": {
     "end_time": "2023-07-01T11:52:50.980339Z",
     "start_time": "2023-07-01T11:52:50.970771Z"
    }
   },
   "outputs": [
    {
     "data": {
      "text/plain": [
       "'60'"
      ]
     },
     "execution_count": 53,
     "metadata": {},
     "output_type": "execute_result"
    }
   ],
   "source": [
    "str(age)"
   ]
  },
  {
   "cell_type": "code",
   "execution_count": 54,
   "id": "0b1af55a",
   "metadata": {
    "ExecuteTime": {
     "end_time": "2023-07-01T11:53:00.544739Z",
     "start_time": "2023-07-01T11:53:00.526878Z"
    }
   },
   "outputs": [
    {
     "data": {
      "text/plain": [
       "60"
      ]
     },
     "execution_count": 54,
     "metadata": {},
     "output_type": "execute_result"
    }
   ],
   "source": [
    "age"
   ]
  },
  {
   "cell_type": "code",
   "execution_count": 56,
   "id": "13afec71",
   "metadata": {
    "ExecuteTime": {
     "end_time": "2023-07-01T11:53:49.733485Z",
     "start_time": "2023-07-01T11:53:49.723580Z"
    }
   },
   "outputs": [
    {
     "data": {
      "text/plain": [
       "str"
      ]
     },
     "execution_count": 56,
     "metadata": {},
     "output_type": "execute_result"
    }
   ],
   "source": [
    "age = str(age)\n",
    "type(age)"
   ]
  },
  {
   "cell_type": "code",
   "execution_count": 57,
   "id": "30c5f02d",
   "metadata": {
    "ExecuteTime": {
     "end_time": "2023-07-01T11:54:15.596044Z",
     "start_time": "2023-07-01T11:54:15.581856Z"
    }
   },
   "outputs": [
    {
     "data": {
      "text/plain": [
       "10.0"
      ]
     },
     "execution_count": 57,
     "metadata": {},
     "output_type": "execute_result"
    }
   ],
   "source": [
    "num = 10\n",
    "float(num)"
   ]
  },
  {
   "cell_type": "code",
   "execution_count": 58,
   "id": "7dc1f094",
   "metadata": {
    "ExecuteTime": {
     "end_time": "2023-07-01T11:54:38.629774Z",
     "start_time": "2023-07-01T11:54:38.613252Z"
    }
   },
   "outputs": [
    {
     "data": {
      "text/plain": [
       "str"
      ]
     },
     "execution_count": 58,
     "metadata": {},
     "output_type": "execute_result"
    }
   ],
   "source": [
    "string = 'abc'\n",
    "type(string)"
   ]
  },
  {
   "cell_type": "code",
   "execution_count": 59,
   "id": "99f56053",
   "metadata": {
    "ExecuteTime": {
     "end_time": "2023-07-01T11:55:13.125606Z",
     "start_time": "2023-07-01T11:55:13.110703Z"
    }
   },
   "outputs": [
    {
     "data": {
      "text/plain": [
       "True"
      ]
     },
     "execution_count": 59,
     "metadata": {},
     "output_type": "execute_result"
    }
   ],
   "source": [
    "number = 10\n",
    "bool(number)"
   ]
  },
  {
   "cell_type": "code",
   "execution_count": 60,
   "id": "af76e562",
   "metadata": {
    "ExecuteTime": {
     "end_time": "2023-07-01T11:55:38.599122Z",
     "start_time": "2023-07-01T11:55:38.580608Z"
    }
   },
   "outputs": [
    {
     "data": {
      "text/plain": [
       "False"
      ]
     },
     "execution_count": 60,
     "metadata": {},
     "output_type": "execute_result"
    }
   ],
   "source": [
    "zero = 0\n",
    "bool(zero)"
   ]
  },
  {
   "cell_type": "code",
   "execution_count": null,
   "id": "0b7dbc55",
   "metadata": {
    "ExecuteTime": {
     "end_time": "2023-06-28T12:42:54.506613Z",
     "start_time": "2023-06-28T12:42:54.490958Z"
    }
   },
   "outputs": [],
   "source": [
    "#We can convert any type of values to bool type, and the output for all values will be True , \n",
    "#Except 0, which is False"
   ]
  },
  {
   "cell_type": "markdown",
   "id": "25d2594c",
   "metadata": {},
   "source": [
    "# String methods"
   ]
  },
  {
   "cell_type": "code",
   "execution_count": 63,
   "id": "692d80bf",
   "metadata": {
    "ExecuteTime": {
     "end_time": "2023-07-01T11:59:27.437609Z",
     "start_time": "2023-07-01T11:59:27.422320Z"
    }
   },
   "outputs": [],
   "source": [
    "#Create a string\n",
    "s = 'we are learning python'"
   ]
  },
  {
   "cell_type": "code",
   "execution_count": null,
   "id": "6498f994",
   "metadata": {
    "ExecuteTime": {
     "end_time": "2022-11-08T08:22:59.976419Z",
     "start_time": "2022-11-08T08:22:59.956447Z"
    }
   },
   "outputs": [],
   "source": [
    "#Capitalize function"
   ]
  },
  {
   "cell_type": "code",
   "execution_count": 64,
   "id": "5c20c797",
   "metadata": {
    "ExecuteTime": {
     "end_time": "2023-07-01T11:59:32.188321Z",
     "start_time": "2023-07-01T11:59:32.173853Z"
    }
   },
   "outputs": [
    {
     "data": {
      "text/plain": [
       "'We are learning python'"
      ]
     },
     "execution_count": 64,
     "metadata": {},
     "output_type": "execute_result"
    }
   ],
   "source": [
    "s.capitalize()"
   ]
  },
  {
   "cell_type": "code",
   "execution_count": null,
   "id": "6122e0b5",
   "metadata": {
    "ExecuteTime": {
     "end_time": "2022-11-23T05:22:57.169612Z",
     "start_time": "2022-11-23T05:22:57.161425Z"
    }
   },
   "outputs": [],
   "source": [
    "#Count"
   ]
  },
  {
   "cell_type": "code",
   "execution_count": 66,
   "id": "ac834ae8",
   "metadata": {
    "ExecuteTime": {
     "end_time": "2023-07-01T12:01:15.410337Z",
     "start_time": "2023-07-01T12:01:15.401334Z"
    }
   },
   "outputs": [
    {
     "data": {
      "text/plain": [
       "2"
      ]
     },
     "execution_count": 66,
     "metadata": {},
     "output_type": "execute_result"
    }
   ],
   "source": [
    "s.count('a')"
   ]
  },
  {
   "cell_type": "code",
   "execution_count": 67,
   "id": "574edfab",
   "metadata": {
    "ExecuteTime": {
     "end_time": "2023-07-01T12:01:31.023820Z",
     "start_time": "2023-07-01T12:01:31.015847Z"
    }
   },
   "outputs": [
    {
     "data": {
      "text/plain": [
       "3"
      ]
     },
     "execution_count": 67,
     "metadata": {},
     "output_type": "execute_result"
    }
   ],
   "source": [
    "s.count(' ')"
   ]
  },
  {
   "cell_type": "code",
   "execution_count": null,
   "id": "5a6e1bad",
   "metadata": {
    "ExecuteTime": {
     "end_time": "2022-11-23T05:23:34.490312Z",
     "start_time": "2022-11-23T05:23:34.477365Z"
    }
   },
   "outputs": [],
   "source": [
    "# Starts with and endswith function"
   ]
  },
  {
   "cell_type": "code",
   "execution_count": 68,
   "id": "96b5493e",
   "metadata": {
    "ExecuteTime": {
     "end_time": "2023-07-01T12:01:48.490664Z",
     "start_time": "2023-07-01T12:01:48.470929Z"
    }
   },
   "outputs": [
    {
     "data": {
      "text/plain": [
       "'we are learning python'"
      ]
     },
     "execution_count": 68,
     "metadata": {},
     "output_type": "execute_result"
    }
   ],
   "source": [
    "s"
   ]
  },
  {
   "cell_type": "code",
   "execution_count": 69,
   "id": "baafb102",
   "metadata": {
    "ExecuteTime": {
     "end_time": "2023-07-01T12:02:17.060096Z",
     "start_time": "2023-07-01T12:02:17.046077Z"
    }
   },
   "outputs": [
    {
     "data": {
      "text/plain": [
       "True"
      ]
     },
     "execution_count": 69,
     "metadata": {},
     "output_type": "execute_result"
    }
   ],
   "source": [
    "s.startswith('w')"
   ]
  },
  {
   "cell_type": "code",
   "execution_count": 70,
   "id": "f3209c8e",
   "metadata": {
    "ExecuteTime": {
     "end_time": "2023-07-01T12:02:24.690386Z",
     "start_time": "2023-07-01T12:02:24.670047Z"
    }
   },
   "outputs": [
    {
     "data": {
      "text/plain": [
       "False"
      ]
     },
     "execution_count": 70,
     "metadata": {},
     "output_type": "execute_result"
    }
   ],
   "source": [
    "s.startswith('W')"
   ]
  },
  {
   "cell_type": "code",
   "execution_count": 71,
   "id": "0e9ebf9c",
   "metadata": {
    "ExecuteTime": {
     "end_time": "2023-07-01T12:02:37.552239Z",
     "start_time": "2023-07-01T12:02:37.537404Z"
    }
   },
   "outputs": [
    {
     "data": {
      "text/plain": [
       "True"
      ]
     },
     "execution_count": 71,
     "metadata": {},
     "output_type": "execute_result"
    }
   ],
   "source": [
    "s.endswith('n')"
   ]
  },
  {
   "cell_type": "code",
   "execution_count": null,
   "id": "b52f85af",
   "metadata": {
    "ExecuteTime": {
     "end_time": "2023-02-01T10:13:50.588363Z",
     "start_time": "2023-02-01T10:13:50.564415Z"
    }
   },
   "outputs": [],
   "source": [
    "#Find"
   ]
  },
  {
   "cell_type": "code",
   "execution_count": 72,
   "id": "b99a19ba",
   "metadata": {
    "ExecuteTime": {
     "end_time": "2023-07-01T12:03:01.411457Z",
     "start_time": "2023-07-01T12:03:01.402365Z"
    }
   },
   "outputs": [
    {
     "data": {
      "text/plain": [
       "'we are learning python'"
      ]
     },
     "execution_count": 72,
     "metadata": {},
     "output_type": "execute_result"
    }
   ],
   "source": [
    "s"
   ]
  },
  {
   "cell_type": "code",
   "execution_count": 73,
   "id": "1c83cfa6",
   "metadata": {
    "ExecuteTime": {
     "end_time": "2023-07-01T12:04:39.251815Z",
     "start_time": "2023-07-01T12:04:39.233086Z"
    }
   },
   "outputs": [
    {
     "data": {
      "text/plain": [
       "7"
      ]
     },
     "execution_count": 73,
     "metadata": {},
     "output_type": "execute_result"
    }
   ],
   "source": [
    "s.find('learning')"
   ]
  },
  {
   "cell_type": "code",
   "execution_count": 74,
   "id": "68169690",
   "metadata": {
    "ExecuteTime": {
     "end_time": "2023-07-01T12:04:54.397919Z",
     "start_time": "2023-07-01T12:04:54.380694Z"
    }
   },
   "outputs": [
    {
     "data": {
      "text/plain": [
       "0"
      ]
     },
     "execution_count": 74,
     "metadata": {},
     "output_type": "execute_result"
    }
   ],
   "source": [
    "s.find('we')"
   ]
  },
  {
   "cell_type": "code",
   "execution_count": null,
   "id": "0ede6c13",
   "metadata": {
    "ExecuteTime": {
     "end_time": "2022-11-23T05:31:07.988835Z",
     "start_time": "2022-11-23T05:31:07.973142Z"
    }
   },
   "outputs": [],
   "source": [
    "#Replace "
   ]
  },
  {
   "cell_type": "code",
   "execution_count": 75,
   "id": "1091ce76",
   "metadata": {
    "ExecuteTime": {
     "end_time": "2023-07-01T12:05:36.514692Z",
     "start_time": "2023-07-01T12:05:36.503220Z"
    }
   },
   "outputs": [
    {
     "data": {
      "text/plain": [
       "'They are learning python'"
      ]
     },
     "execution_count": 75,
     "metadata": {},
     "output_type": "execute_result"
    }
   ],
   "source": [
    "s.replace('we','They')"
   ]
  },
  {
   "cell_type": "code",
   "execution_count": 77,
   "id": "4787d34a",
   "metadata": {
    "ExecuteTime": {
     "end_time": "2023-07-01T12:07:13.214335Z",
     "start_time": "2023-07-01T12:07:13.198600Z"
    }
   },
   "outputs": [
    {
     "data": {
      "text/plain": [
       "'They are learning python'"
      ]
     },
     "execution_count": 77,
     "metadata": {},
     "output_type": "execute_result"
    }
   ],
   "source": [
    "s = s.replace('we','They')\n",
    "s"
   ]
  },
  {
   "cell_type": "code",
   "execution_count": 78,
   "id": "74c14e4b",
   "metadata": {
    "ExecuteTime": {
     "end_time": "2023-07-01T12:07:25.398240Z",
     "start_time": "2023-07-01T12:07:25.392047Z"
    }
   },
   "outputs": [],
   "source": [
    "#Join"
   ]
  },
  {
   "cell_type": "code",
   "execution_count": 79,
   "id": "29603076",
   "metadata": {
    "ExecuteTime": {
     "end_time": "2023-07-01T12:09:07.750673Z",
     "start_time": "2023-07-01T12:09:07.739683Z"
    }
   },
   "outputs": [
    {
     "data": {
      "text/plain": [
       "'They are learning python'"
      ]
     },
     "execution_count": 79,
     "metadata": {},
     "output_type": "execute_result"
    }
   ],
   "source": [
    "s"
   ]
  },
  {
   "cell_type": "code",
   "execution_count": 80,
   "id": "718144e8",
   "metadata": {
    "ExecuteTime": {
     "end_time": "2023-07-01T12:09:44.332616Z",
     "start_time": "2023-07-01T12:09:44.319018Z"
    }
   },
   "outputs": [
    {
     "data": {
      "text/plain": [
       "'T-h-e-y- -a-r-e- -l-e-a-r-n-i-n-g- -p-y-t-h-o-n'"
      ]
     },
     "execution_count": 80,
     "metadata": {},
     "output_type": "execute_result"
    }
   ],
   "source": [
    "'-'.join(s)"
   ]
  },
  {
   "cell_type": "code",
   "execution_count": 81,
   "id": "a0e95bfd",
   "metadata": {
    "ExecuteTime": {
     "end_time": "2023-07-01T12:10:04.545545Z",
     "start_time": "2023-07-01T12:10:04.536960Z"
    }
   },
   "outputs": [
    {
     "data": {
      "text/plain": [
       "'T|h|e|y| |a|r|e| |l|e|a|r|n|i|n|g| |p|y|t|h|o|n'"
      ]
     },
     "execution_count": 81,
     "metadata": {},
     "output_type": "execute_result"
    }
   ],
   "source": [
    "'|'.join(s)"
   ]
  },
  {
   "cell_type": "code",
   "execution_count": null,
   "id": "c26137c1",
   "metadata": {
    "ExecuteTime": {
     "end_time": "2023-02-01T10:16:13.136517Z",
     "start_time": "2023-02-01T10:16:13.121315Z"
    }
   },
   "outputs": [],
   "source": [
    "#Split "
   ]
  },
  {
   "cell_type": "code",
   "execution_count": 82,
   "id": "e0b71753",
   "metadata": {
    "ExecuteTime": {
     "end_time": "2023-07-01T12:10:39.435290Z",
     "start_time": "2023-07-01T12:10:39.416616Z"
    }
   },
   "outputs": [
    {
     "data": {
      "text/plain": [
       "'They are learning python'"
      ]
     },
     "execution_count": 82,
     "metadata": {},
     "output_type": "execute_result"
    }
   ],
   "source": [
    "s"
   ]
  },
  {
   "cell_type": "code",
   "execution_count": 83,
   "id": "d555d233",
   "metadata": {
    "ExecuteTime": {
     "end_time": "2023-07-01T12:11:14.241844Z",
     "start_time": "2023-07-01T12:11:14.235453Z"
    }
   },
   "outputs": [
    {
     "data": {
      "text/plain": [
       "['They', 'are', 'learning', 'python']"
      ]
     },
     "execution_count": 83,
     "metadata": {},
     "output_type": "execute_result"
    }
   ],
   "source": [
    "s.split(' ')"
   ]
  },
  {
   "cell_type": "code",
   "execution_count": 84,
   "id": "7dc66dee",
   "metadata": {
    "ExecuteTime": {
     "end_time": "2023-07-01T12:12:02.251436Z",
     "start_time": "2023-07-01T12:12:02.241342Z"
    }
   },
   "outputs": [
    {
     "data": {
      "text/plain": [
       "['They', 'are', 'learning', 'python']"
      ]
     },
     "execution_count": 84,
     "metadata": {},
     "output_type": "execute_result"
    }
   ],
   "source": [
    "s4 = 'They,are,learning,python'\n",
    "\n",
    "s4.split(',')\n"
   ]
  },
  {
   "cell_type": "code",
   "execution_count": null,
   "id": "79c9ffa6",
   "metadata": {
    "ExecuteTime": {
     "end_time": "2022-11-23T05:41:15.057035Z",
     "start_time": "2022-11-23T05:41:15.037013Z"
    }
   },
   "outputs": [],
   "source": [
    "#Basic functions "
   ]
  },
  {
   "cell_type": "code",
   "execution_count": 85,
   "id": "4f210d86",
   "metadata": {
    "ExecuteTime": {
     "end_time": "2023-07-01T12:12:47.528590Z",
     "start_time": "2023-07-01T12:12:47.514962Z"
    }
   },
   "outputs": [
    {
     "data": {
      "text/plain": [
       "'they are learning python'"
      ]
     },
     "execution_count": 85,
     "metadata": {},
     "output_type": "execute_result"
    }
   ],
   "source": [
    "s.lower()"
   ]
  },
  {
   "cell_type": "code",
   "execution_count": 86,
   "id": "1bb16fb7",
   "metadata": {
    "ExecuteTime": {
     "end_time": "2023-07-01T12:13:05.879265Z",
     "start_time": "2023-07-01T12:13:05.869527Z"
    }
   },
   "outputs": [
    {
     "data": {
      "text/plain": [
       "'THEY ARE LEARNING PYTHON'"
      ]
     },
     "execution_count": 86,
     "metadata": {},
     "output_type": "execute_result"
    }
   ],
   "source": [
    "s.upper()"
   ]
  },
  {
   "cell_type": "markdown",
   "id": "48220fa4",
   "metadata": {},
   "source": [
    "# Data Structures\n",
    "1. Lists\n",
    "2. Tuple\n",
    "3. Dictionary\n",
    "4. Sets"
   ]
  },
  {
   "cell_type": "markdown",
   "id": "78753086",
   "metadata": {},
   "source": [
    "**Lists**\n",
    "\n",
    "- Lists are the built in data structures in python.\n",
    "- Lists are heterogenous data structure.\n",
    "- Lists are mutable."
   ]
  },
  {
   "cell_type": "code",
   "execution_count": null,
   "id": "8417c924",
   "metadata": {
    "ExecuteTime": {
     "end_time": "2022-11-24T04:42:11.924345Z",
     "start_time": "2022-11-24T04:42:11.912028Z"
    }
   },
   "outputs": [],
   "source": [
    "#Creating lists"
   ]
  },
  {
   "cell_type": "code",
   "execution_count": 1,
   "id": "f1570c8d",
   "metadata": {
    "ExecuteTime": {
     "end_time": "2023-07-02T09:03:07.193708Z",
     "start_time": "2023-07-02T09:03:07.163436Z"
    }
   },
   "outputs": [
    {
     "data": {
      "text/plain": [
       "list"
      ]
     },
     "execution_count": 1,
     "metadata": {},
     "output_type": "execute_result"
    }
   ],
   "source": [
    "lst = []\n",
    "type(lst)"
   ]
  },
  {
   "cell_type": "code",
   "execution_count": 2,
   "id": "3f4790ef",
   "metadata": {
    "ExecuteTime": {
     "end_time": "2023-07-02T09:04:01.792816Z",
     "start_time": "2023-07-02T09:04:01.771508Z"
    }
   },
   "outputs": [
    {
     "data": {
      "text/plain": [
       "['ABC', 25, 'Pune', 'DS', True]"
      ]
     },
     "execution_count": 2,
     "metadata": {},
     "output_type": "execute_result"
    }
   ],
   "source": [
    "lst = ['ABC',25,'Pune','DS',True]\n",
    "lst"
   ]
  },
  {
   "cell_type": "code",
   "execution_count": 3,
   "id": "8884c02e",
   "metadata": {
    "ExecuteTime": {
     "end_time": "2023-07-02T09:04:58.511359Z",
     "start_time": "2023-07-02T09:04:58.497293Z"
    }
   },
   "outputs": [
    {
     "data": {
      "text/plain": [
       "25"
      ]
     },
     "execution_count": 3,
     "metadata": {},
     "output_type": "execute_result"
    }
   ],
   "source": [
    "lst[1]"
   ]
  },
  {
   "cell_type": "code",
   "execution_count": 6,
   "id": "abd528a2",
   "metadata": {
    "ExecuteTime": {
     "end_time": "2023-07-02T09:06:47.033004Z",
     "start_time": "2023-07-02T09:06:47.012365Z"
    }
   },
   "outputs": [
    {
     "data": {
      "text/plain": [
       "['Pune', 'DS', True]"
      ]
     },
     "execution_count": 6,
     "metadata": {},
     "output_type": "execute_result"
    }
   ],
   "source": [
    "lst[2:]"
   ]
  },
  {
   "cell_type": "code",
   "execution_count": 7,
   "id": "2c6bba18",
   "metadata": {
    "ExecuteTime": {
     "end_time": "2023-07-02T09:07:11.121615Z",
     "start_time": "2023-07-02T09:07:11.102368Z"
    }
   },
   "outputs": [
    {
     "data": {
      "text/plain": [
       "['ABC', 25, 'Pune']"
      ]
     },
     "execution_count": 7,
     "metadata": {},
     "output_type": "execute_result"
    }
   ],
   "source": [
    "lst[:3]"
   ]
  },
  {
   "cell_type": "code",
   "execution_count": 8,
   "id": "19d6c98e",
   "metadata": {
    "ExecuteTime": {
     "end_time": "2023-07-02T09:07:36.088628Z",
     "start_time": "2023-07-02T09:07:36.080075Z"
    }
   },
   "outputs": [
    {
     "data": {
      "text/plain": [
       "['ABC', 25, 'Pune', 'DS', True]"
      ]
     },
     "execution_count": 8,
     "metadata": {},
     "output_type": "execute_result"
    }
   ],
   "source": [
    "lst[:]"
   ]
  },
  {
   "cell_type": "code",
   "execution_count": 9,
   "id": "bbde84dd",
   "metadata": {
    "ExecuteTime": {
     "end_time": "2023-07-02T09:09:18.532645Z",
     "start_time": "2023-07-02T09:09:18.514496Z"
    }
   },
   "outputs": [],
   "source": [
    "lst.append(5.5)"
   ]
  },
  {
   "cell_type": "code",
   "execution_count": 10,
   "id": "a1909662",
   "metadata": {
    "ExecuteTime": {
     "end_time": "2023-07-02T09:09:22.626365Z",
     "start_time": "2023-07-02T09:09:22.617740Z"
    }
   },
   "outputs": [
    {
     "data": {
      "text/plain": [
       "['ABC', 25, 'Pune', 'DS', True, 5.5]"
      ]
     },
     "execution_count": 10,
     "metadata": {},
     "output_type": "execute_result"
    }
   ],
   "source": [
    "lst"
   ]
  },
  {
   "cell_type": "code",
   "execution_count": null,
   "id": "3b379bef",
   "metadata": {
    "ExecuteTime": {
     "end_time": "2022-11-08T05:22:11.685487Z",
     "start_time": "2022-11-08T05:22:11.669466Z"
    }
   },
   "outputs": [],
   "source": [
    "#Count "
   ]
  },
  {
   "cell_type": "code",
   "execution_count": 12,
   "id": "41e60574",
   "metadata": {
    "ExecuteTime": {
     "end_time": "2023-07-02T09:10:35.587045Z",
     "start_time": "2023-07-02T09:10:35.568978Z"
    }
   },
   "outputs": [
    {
     "data": {
      "text/plain": [
       "0"
      ]
     },
     "execution_count": 12,
     "metadata": {},
     "output_type": "execute_result"
    }
   ],
   "source": [
    "lst.count('Mumbai')"
   ]
  },
  {
   "cell_type": "code",
   "execution_count": 13,
   "id": "7182cfcf",
   "metadata": {
    "ExecuteTime": {
     "end_time": "2023-07-02T09:12:13.366241Z",
     "start_time": "2023-07-02T09:12:13.353019Z"
    }
   },
   "outputs": [
    {
     "data": {
      "text/plain": [
       "5"
      ]
     },
     "execution_count": 13,
     "metadata": {},
     "output_type": "execute_result"
    }
   ],
   "source": [
    "lst.index(5.5)"
   ]
  },
  {
   "cell_type": "code",
   "execution_count": null,
   "id": "ec790de7",
   "metadata": {
    "ExecuteTime": {
     "end_time": "2022-11-08T05:22:11.733495Z",
     "start_time": "2022-11-08T05:22:11.717493Z"
    }
   },
   "outputs": [],
   "source": [
    "#Insert"
   ]
  },
  {
   "cell_type": "code",
   "execution_count": 14,
   "id": "45aac18b",
   "metadata": {
    "ExecuteTime": {
     "end_time": "2023-07-02T09:13:30.071153Z",
     "start_time": "2023-07-02T09:13:30.055237Z"
    }
   },
   "outputs": [],
   "source": [
    "lst.insert(0,'DA')"
   ]
  },
  {
   "cell_type": "code",
   "execution_count": 15,
   "id": "7bb906d0",
   "metadata": {
    "ExecuteTime": {
     "end_time": "2023-07-02T09:13:36.287797Z",
     "start_time": "2023-07-02T09:13:36.276912Z"
    }
   },
   "outputs": [
    {
     "data": {
      "text/plain": [
       "['DA', 'ABC', 25, 'Pune', 'DS', True, 5.5]"
      ]
     },
     "execution_count": 15,
     "metadata": {},
     "output_type": "execute_result"
    }
   ],
   "source": [
    "lst"
   ]
  },
  {
   "cell_type": "code",
   "execution_count": null,
   "id": "cc3629cb",
   "metadata": {
    "ExecuteTime": {
     "end_time": "2022-11-08T05:22:11.765814Z",
     "start_time": "2022-11-08T05:22:11.749709Z"
    }
   },
   "outputs": [],
   "source": [
    "#pop"
   ]
  },
  {
   "cell_type": "code",
   "execution_count": 16,
   "id": "5fd7d1ba",
   "metadata": {
    "ExecuteTime": {
     "end_time": "2023-07-02T09:14:32.235075Z",
     "start_time": "2023-07-02T09:14:32.219605Z"
    }
   },
   "outputs": [
    {
     "data": {
      "text/plain": [
       "5.5"
      ]
     },
     "execution_count": 16,
     "metadata": {},
     "output_type": "execute_result"
    }
   ],
   "source": [
    "lst.pop()"
   ]
  },
  {
   "cell_type": "code",
   "execution_count": 17,
   "id": "6ab33471",
   "metadata": {
    "ExecuteTime": {
     "end_time": "2023-07-02T09:14:38.012437Z",
     "start_time": "2023-07-02T09:14:37.993184Z"
    }
   },
   "outputs": [
    {
     "data": {
      "text/plain": [
       "['DA', 'ABC', 25, 'Pune', 'DS', True]"
      ]
     },
     "execution_count": 17,
     "metadata": {},
     "output_type": "execute_result"
    }
   ],
   "source": [
    "lst"
   ]
  },
  {
   "cell_type": "code",
   "execution_count": null,
   "id": "041ea0f3",
   "metadata": {
    "ExecuteTime": {
     "end_time": "2022-11-08T05:22:11.806220Z",
     "start_time": "2022-11-08T05:22:11.791733Z"
    }
   },
   "outputs": [],
   "source": [
    "#reverse"
   ]
  },
  {
   "cell_type": "code",
   "execution_count": 27,
   "id": "f3bdbd28",
   "metadata": {
    "ExecuteTime": {
     "end_time": "2023-07-02T09:21:45.524278Z",
     "start_time": "2023-07-02T09:21:45.289980Z"
    }
   },
   "outputs": [
    {
     "ename": "TypeError",
     "evalue": "list.reverse() takes no arguments (1 given)",
     "output_type": "error",
     "traceback": [
      "\u001b[1;31m---------------------------------------------------------------------------\u001b[0m",
      "\u001b[1;31mTypeError\u001b[0m                                 Traceback (most recent call last)",
      "\u001b[1;32m~\\AppData\\Local\\Temp\\ipykernel_25740\\349542265.py\u001b[0m in \u001b[0;36m<module>\u001b[1;34m\u001b[0m\n\u001b[1;32m----> 1\u001b[1;33m \u001b[0mlst\u001b[0m\u001b[1;33m.\u001b[0m\u001b[0mreverse\u001b[0m\u001b[1;33m(\u001b[0m\u001b[1;36m10\u001b[0m\u001b[1;33m)\u001b[0m\u001b[1;33m\u001b[0m\u001b[1;33m\u001b[0m\u001b[0m\n\u001b[0m",
      "\u001b[1;31mTypeError\u001b[0m: list.reverse() takes no arguments (1 given)"
     ]
    }
   ],
   "source": [
    "lst.reverse()"
   ]
  },
  {
   "cell_type": "code",
   "execution_count": 19,
   "id": "88092c1b",
   "metadata": {
    "ExecuteTime": {
     "end_time": "2023-07-02T09:15:14.284713Z",
     "start_time": "2023-07-02T09:15:14.263342Z"
    }
   },
   "outputs": [
    {
     "data": {
      "text/plain": [
       "[True, 'DS', 'Pune', 25, 'ABC', 'DA']"
      ]
     },
     "execution_count": 19,
     "metadata": {},
     "output_type": "execute_result"
    }
   ],
   "source": [
    "lst"
   ]
  },
  {
   "cell_type": "code",
   "execution_count": null,
   "id": "e5a6f491",
   "metadata": {
    "ExecuteTime": {
     "end_time": "2022-11-08T05:22:11.839437Z",
     "start_time": "2022-11-08T05:22:11.827602Z"
    }
   },
   "outputs": [],
   "source": [
    "#remove"
   ]
  },
  {
   "cell_type": "code",
   "execution_count": 20,
   "id": "d079c056",
   "metadata": {
    "ExecuteTime": {
     "end_time": "2023-07-02T09:16:04.043852Z",
     "start_time": "2023-07-02T09:16:04.028738Z"
    }
   },
   "outputs": [],
   "source": [
    "lst.remove('DS')"
   ]
  },
  {
   "cell_type": "code",
   "execution_count": 21,
   "id": "8e316c6c",
   "metadata": {
    "ExecuteTime": {
     "end_time": "2023-07-02T09:16:07.130393Z",
     "start_time": "2023-07-02T09:16:07.119753Z"
    }
   },
   "outputs": [
    {
     "data": {
      "text/plain": [
       "[True, 'Pune', 25, 'ABC', 'DA']"
      ]
     },
     "execution_count": 21,
     "metadata": {},
     "output_type": "execute_result"
    }
   ],
   "source": [
    "lst"
   ]
  },
  {
   "cell_type": "code",
   "execution_count": null,
   "id": "2c6eb636",
   "metadata": {
    "ExecuteTime": {
     "end_time": "2022-11-08T05:22:11.896980Z",
     "start_time": "2022-11-08T05:22:11.884445Z"
    }
   },
   "outputs": [],
   "source": [
    "#Replacing elements in lists"
   ]
  },
  {
   "cell_type": "code",
   "execution_count": 22,
   "id": "521b8b04",
   "metadata": {
    "ExecuteTime": {
     "end_time": "2023-07-02T09:17:07.514668Z",
     "start_time": "2023-07-02T09:17:07.506665Z"
    }
   },
   "outputs": [
    {
     "data": {
      "text/plain": [
       "[True, 'Pune', 25, 'ABC', 'DA']"
      ]
     },
     "execution_count": 22,
     "metadata": {},
     "output_type": "execute_result"
    }
   ],
   "source": [
    "lst"
   ]
  },
  {
   "cell_type": "code",
   "execution_count": 23,
   "id": "1191f014",
   "metadata": {
    "ExecuteTime": {
     "end_time": "2023-07-02T09:17:40.213036Z",
     "start_time": "2023-07-02T09:17:40.199771Z"
    }
   },
   "outputs": [
    {
     "data": {
      "text/plain": [
       "[True, 'Pune', 25, 'ABC', 'DA', 100]"
      ]
     },
     "execution_count": 23,
     "metadata": {},
     "output_type": "execute_result"
    }
   ],
   "source": [
    "lst.append(100)\n",
    "lst"
   ]
  },
  {
   "cell_type": "code",
   "execution_count": 24,
   "id": "01d531dd",
   "metadata": {
    "ExecuteTime": {
     "end_time": "2023-07-02T09:18:59.700250Z",
     "start_time": "2023-07-02T09:18:59.689226Z"
    }
   },
   "outputs": [
    {
     "data": {
      "text/plain": [
       "[True, 'Pune', 25, 500, 'ABC', 'DA', 100]"
      ]
     },
     "execution_count": 24,
     "metadata": {},
     "output_type": "execute_result"
    }
   ],
   "source": [
    "lst.insert(3,500)\n",
    "lst"
   ]
  },
  {
   "cell_type": "code",
   "execution_count": 26,
   "id": "ffd90149",
   "metadata": {
    "ExecuteTime": {
     "end_time": "2023-07-02T09:20:34.364017Z",
     "start_time": "2023-07-02T09:20:34.342645Z"
    }
   },
   "outputs": [
    {
     "data": {
      "text/plain": [
       "[True, 'Pune', 25, 900, 'ABC', 'DA', 100]"
      ]
     },
     "execution_count": 26,
     "metadata": {},
     "output_type": "execute_result"
    }
   ],
   "source": [
    "lst[3] = 900\n",
    "\n",
    "lst"
   ]
  },
  {
   "cell_type": "markdown",
   "id": "5dbba063",
   "metadata": {},
   "source": [
    "**Tuple**\n",
    "\n",
    "- Tuples are ordered and heterogenous data structure.\n",
    "- Tuples are immutable."
   ]
  },
  {
   "cell_type": "code",
   "execution_count": null,
   "id": "174d82a7",
   "metadata": {
    "ExecuteTime": {
     "end_time": "2022-11-24T05:25:41.901913Z",
     "start_time": "2022-11-24T05:25:41.892892Z"
    }
   },
   "outputs": [],
   "source": [
    "#Create a tuple"
   ]
  },
  {
   "cell_type": "code",
   "execution_count": 28,
   "id": "52b0c1d4",
   "metadata": {
    "ExecuteTime": {
     "end_time": "2023-07-02T09:22:58.282382Z",
     "start_time": "2023-07-02T09:22:58.271862Z"
    }
   },
   "outputs": [
    {
     "data": {
      "text/plain": [
       "tuple"
      ]
     },
     "execution_count": 28,
     "metadata": {},
     "output_type": "execute_result"
    }
   ],
   "source": [
    "t = ()\n",
    "type(t)"
   ]
  },
  {
   "cell_type": "code",
   "execution_count": 29,
   "id": "9d6cc3a9",
   "metadata": {
    "ExecuteTime": {
     "end_time": "2023-07-02T09:23:39.618795Z",
     "start_time": "2023-07-02T09:23:39.610770Z"
    }
   },
   "outputs": [
    {
     "data": {
      "text/plain": [
       "('STR', False, 10.0, 500)"
      ]
     },
     "execution_count": 29,
     "metadata": {},
     "output_type": "execute_result"
    }
   ],
   "source": [
    "t = ('STR',False,10.0,500)\n",
    "t"
   ]
  },
  {
   "cell_type": "code",
   "execution_count": 30,
   "id": "5b616bb0",
   "metadata": {
    "ExecuteTime": {
     "end_time": "2023-07-02T09:24:22.393033Z",
     "start_time": "2023-07-02T09:24:22.372264Z"
    }
   },
   "outputs": [
    {
     "data": {
      "text/plain": [
       "1"
      ]
     },
     "execution_count": 30,
     "metadata": {},
     "output_type": "execute_result"
    }
   ],
   "source": [
    "t.count(False)"
   ]
  },
  {
   "cell_type": "code",
   "execution_count": 31,
   "id": "220b8b3f",
   "metadata": {
    "ExecuteTime": {
     "end_time": "2023-07-02T09:24:33.115300Z",
     "start_time": "2023-07-02T09:24:33.096834Z"
    }
   },
   "outputs": [
    {
     "data": {
      "text/plain": [
       "2"
      ]
     },
     "execution_count": 31,
     "metadata": {},
     "output_type": "execute_result"
    }
   ],
   "source": [
    "t.index(10.0)"
   ]
  },
  {
   "cell_type": "code",
   "execution_count": null,
   "id": "e6436ef7",
   "metadata": {
    "ExecuteTime": {
     "end_time": "2022-11-08T05:22:11.994924Z",
     "start_time": "2022-11-08T05:22:11.981915Z"
    }
   },
   "outputs": [],
   "source": [
    "#Accessing elements from tuple"
   ]
  },
  {
   "cell_type": "code",
   "execution_count": 32,
   "id": "a913ba15",
   "metadata": {
    "ExecuteTime": {
     "end_time": "2023-07-02T09:24:58.251350Z",
     "start_time": "2023-07-02T09:24:58.241774Z"
    }
   },
   "outputs": [
    {
     "data": {
      "text/plain": [
       "'STR'"
      ]
     },
     "execution_count": 32,
     "metadata": {},
     "output_type": "execute_result"
    }
   ],
   "source": [
    "t[0]"
   ]
  },
  {
   "cell_type": "code",
   "execution_count": 33,
   "id": "7363c49a",
   "metadata": {
    "ExecuteTime": {
     "end_time": "2023-07-02T09:25:25.324031Z",
     "start_time": "2023-07-02T09:25:25.316810Z"
    }
   },
   "outputs": [
    {
     "data": {
      "text/plain": [
       "(False, 10.0, 500)"
      ]
     },
     "execution_count": 33,
     "metadata": {},
     "output_type": "execute_result"
    }
   ],
   "source": [
    "t[1:]"
   ]
  },
  {
   "cell_type": "markdown",
   "id": "fb3d7af9",
   "metadata": {},
   "source": [
    "**Dictionary**\n",
    "\n",
    "- Python dictionaries are ordered collection of items.\n",
    "- Dictionary is mutable data structure.\n",
    "- It has key and value pair."
   ]
  },
  {
   "cell_type": "code",
   "execution_count": null,
   "id": "5a7874ad",
   "metadata": {
    "ExecuteTime": {
     "end_time": "2022-11-08T05:22:23.806543Z",
     "start_time": "2022-11-08T05:22:23.791603Z"
    }
   },
   "outputs": [],
   "source": [
    "#Creating an empty dictionary"
   ]
  },
  {
   "cell_type": "code",
   "execution_count": 34,
   "id": "027b0252",
   "metadata": {
    "ExecuteTime": {
     "end_time": "2023-07-02T09:27:52.763639Z",
     "start_time": "2023-07-02T09:27:52.746068Z"
    }
   },
   "outputs": [
    {
     "data": {
      "text/plain": [
       "dict"
      ]
     },
     "execution_count": 34,
     "metadata": {},
     "output_type": "execute_result"
    }
   ],
   "source": [
    "d = {}\n",
    "type(d)"
   ]
  },
  {
   "cell_type": "code",
   "execution_count": null,
   "id": "de8f6bcf",
   "metadata": {
    "ExecuteTime": {
     "end_time": "2022-11-08T05:22:24.533386Z",
     "start_time": "2022-11-08T05:22:24.519344Z"
    }
   },
   "outputs": [],
   "source": [
    "#Adding elements in a dictionary"
   ]
  },
  {
   "cell_type": "code",
   "execution_count": 35,
   "id": "c62f2131",
   "metadata": {
    "ExecuteTime": {
     "end_time": "2023-07-02T09:29:28.873801Z",
     "start_time": "2023-07-02T09:29:28.857364Z"
    }
   },
   "outputs": [
    {
     "data": {
      "text/plain": [
       "{'Name': 'ABC', 'Dept': 'HR', 'Age': 25, 'Location': 'Pune', 'ID': True}"
      ]
     },
     "execution_count": 35,
     "metadata": {},
     "output_type": "execute_result"
    }
   ],
   "source": [
    "d = {'Name':'ABC','Dept':'HR','Age':25,'Location':'Pune',\"ID\":True}\n",
    "d"
   ]
  },
  {
   "cell_type": "code",
   "execution_count": null,
   "id": "5639636a",
   "metadata": {
    "ExecuteTime": {
     "end_time": "2022-11-08T05:22:24.867659Z",
     "start_time": "2022-11-08T05:22:24.851398Z"
    }
   },
   "outputs": [],
   "source": [
    "#get"
   ]
  },
  {
   "cell_type": "code",
   "execution_count": 36,
   "id": "2cfa72e3",
   "metadata": {
    "ExecuteTime": {
     "end_time": "2023-07-02T09:30:26.836287Z",
     "start_time": "2023-07-02T09:30:26.821498Z"
    }
   },
   "outputs": [
    {
     "data": {
      "text/plain": [
       "'ABC'"
      ]
     },
     "execution_count": 36,
     "metadata": {},
     "output_type": "execute_result"
    }
   ],
   "source": [
    "d.get('Name')"
   ]
  },
  {
   "cell_type": "code",
   "execution_count": 37,
   "id": "b9c4bd11",
   "metadata": {
    "ExecuteTime": {
     "end_time": "2023-07-02T09:30:48.757857Z",
     "start_time": "2023-07-02T09:30:48.745255Z"
    }
   },
   "outputs": [
    {
     "data": {
      "text/plain": [
       "'HR'"
      ]
     },
     "execution_count": 37,
     "metadata": {},
     "output_type": "execute_result"
    }
   ],
   "source": [
    "d.get('Dept')"
   ]
  },
  {
   "cell_type": "code",
   "execution_count": null,
   "id": "fdeec872",
   "metadata": {
    "ExecuteTime": {
     "end_time": "2022-11-08T05:22:25.201476Z",
     "start_time": "2022-11-08T05:22:25.185884Z"
    }
   },
   "outputs": [],
   "source": [
    "#items"
   ]
  },
  {
   "cell_type": "code",
   "execution_count": 38,
   "id": "300c3556",
   "metadata": {
    "ExecuteTime": {
     "end_time": "2023-07-02T09:31:00.874759Z",
     "start_time": "2023-07-02T09:31:00.854180Z"
    },
    "scrolled": false
   },
   "outputs": [
    {
     "data": {
      "text/plain": [
       "dict_items([('Name', 'ABC'), ('Dept', 'HR'), ('Age', 25), ('Location', 'Pune'), ('ID', True)])"
      ]
     },
     "execution_count": 38,
     "metadata": {},
     "output_type": "execute_result"
    }
   ],
   "source": [
    "d.items()"
   ]
  },
  {
   "cell_type": "code",
   "execution_count": null,
   "id": "65a60573",
   "metadata": {
    "ExecuteTime": {
     "end_time": "2022-11-08T05:22:25.389576Z",
     "start_time": "2022-11-08T05:22:25.370694Z"
    }
   },
   "outputs": [],
   "source": [
    "#keys"
   ]
  },
  {
   "cell_type": "code",
   "execution_count": 41,
   "id": "b7d5bcc1",
   "metadata": {
    "ExecuteTime": {
     "end_time": "2023-07-02T09:32:28.926052Z",
     "start_time": "2023-07-02T09:32:28.916509Z"
    }
   },
   "outputs": [
    {
     "data": {
      "text/plain": [
       "dict_keys(['Name', 'Dept', 'Age', 'Location', 'ID'])"
      ]
     },
     "execution_count": 41,
     "metadata": {},
     "output_type": "execute_result"
    }
   ],
   "source": [
    "d.keys()"
   ]
  },
  {
   "cell_type": "code",
   "execution_count": 42,
   "id": "093b715b",
   "metadata": {
    "ExecuteTime": {
     "end_time": "2023-07-02T09:33:43.056386Z",
     "start_time": "2023-07-02T09:33:43.042909Z"
    }
   },
   "outputs": [],
   "source": [
    "#Adding values in dictionary(update)\n",
    "d.update({'Car':'Honda'})"
   ]
  },
  {
   "cell_type": "code",
   "execution_count": 44,
   "id": "2789b28e",
   "metadata": {
    "ExecuteTime": {
     "end_time": "2023-07-02T09:34:22.546460Z",
     "start_time": "2023-07-02T09:34:22.532528Z"
    }
   },
   "outputs": [],
   "source": [
    "d.update({'Phone': 852364,'Id': 101})"
   ]
  },
  {
   "cell_type": "code",
   "execution_count": 45,
   "id": "d3f5e395",
   "metadata": {
    "ExecuteTime": {
     "end_time": "2023-07-02T09:34:23.509517Z",
     "start_time": "2023-07-02T09:34:23.495175Z"
    }
   },
   "outputs": [
    {
     "data": {
      "text/plain": [
       "{'Name': 'ABC',\n",
       " 'Dept': 'HR',\n",
       " 'Age': 25,\n",
       " 'Location': 'Pune',\n",
       " 'ID': True,\n",
       " 'Car': 'Honda',\n",
       " 'Phone': 852364,\n",
       " 'Id': 101}"
      ]
     },
     "execution_count": 45,
     "metadata": {},
     "output_type": "execute_result"
    }
   ],
   "source": [
    "d"
   ]
  },
  {
   "cell_type": "code",
   "execution_count": null,
   "id": "116a2fd3",
   "metadata": {
    "ExecuteTime": {
     "end_time": "2022-11-08T05:22:25.959828Z",
     "start_time": "2022-11-08T05:22:25.937270Z"
    }
   },
   "outputs": [],
   "source": [
    "#pop"
   ]
  },
  {
   "cell_type": "code",
   "execution_count": 47,
   "id": "911dd6c1",
   "metadata": {
    "ExecuteTime": {
     "end_time": "2023-07-02T09:36:24.555835Z",
     "start_time": "2023-07-02T09:36:24.539324Z"
    }
   },
   "outputs": [
    {
     "data": {
      "text/plain": [
       "True"
      ]
     },
     "execution_count": 47,
     "metadata": {},
     "output_type": "execute_result"
    }
   ],
   "source": [
    "d.pop('ID')"
   ]
  },
  {
   "cell_type": "code",
   "execution_count": 48,
   "id": "31f071b3",
   "metadata": {
    "ExecuteTime": {
     "end_time": "2023-07-02T09:36:29.181135Z",
     "start_time": "2023-07-02T09:36:29.163646Z"
    }
   },
   "outputs": [
    {
     "data": {
      "text/plain": [
       "{'Name': 'ABC',\n",
       " 'Dept': 'HR',\n",
       " 'Age': 25,\n",
       " 'Location': 'Pune',\n",
       " 'Car': 'Honda',\n",
       " 'Phone': 852364,\n",
       " 'Id': 101}"
      ]
     },
     "execution_count": 48,
     "metadata": {},
     "output_type": "execute_result"
    }
   ],
   "source": [
    "d"
   ]
  },
  {
   "cell_type": "code",
   "execution_count": null,
   "id": "1e002393",
   "metadata": {
    "ExecuteTime": {
     "end_time": "2022-11-08T05:22:27.105897Z",
     "start_time": "2022-11-08T05:22:27.085858Z"
    }
   },
   "outputs": [],
   "source": [
    "#values"
   ]
  },
  {
   "cell_type": "code",
   "execution_count": 49,
   "id": "702021e4",
   "metadata": {
    "ExecuteTime": {
     "end_time": "2023-07-02T09:36:51.477303Z",
     "start_time": "2023-07-02T09:36:51.468179Z"
    }
   },
   "outputs": [
    {
     "data": {
      "text/plain": [
       "dict_values(['ABC', 'HR', 25, 'Pune', 'Honda', 852364, 101])"
      ]
     },
     "execution_count": 49,
     "metadata": {},
     "output_type": "execute_result"
    }
   ],
   "source": [
    "d.values()"
   ]
  },
  {
   "cell_type": "markdown",
   "id": "da0825b4",
   "metadata": {},
   "source": [
    "**Set**\n",
    "\n",
    "- Set is a collection which is unordered,unindexed.\n",
    "- Set is immutable.\n",
    "- Sets are unordered, so you cannot be sure in which order the items will appear.\n",
    "- Sets do not allow duplicate values.\n",
    "- Once a set is created, you cannot change its items, but you can remove items and add new items.\n",
    "- As sets are unordered, they do not support indexing and slicing operations."
   ]
  },
  {
   "cell_type": "code",
   "execution_count": 51,
   "id": "f77bace1",
   "metadata": {
    "ExecuteTime": {
     "end_time": "2023-07-02T09:40:37.540523Z",
     "start_time": "2023-07-02T09:40:37.525263Z"
    }
   },
   "outputs": [
    {
     "data": {
      "text/plain": [
       "set"
      ]
     },
     "execution_count": 51,
     "metadata": {},
     "output_type": "execute_result"
    }
   ],
   "source": [
    "#creating an empty set\n",
    "s = {1,10,25,True,'str'}\n",
    "type(s)"
   ]
  },
  {
   "cell_type": "code",
   "execution_count": 52,
   "id": "d5c148cf",
   "metadata": {
    "ExecuteTime": {
     "end_time": "2023-07-02T09:40:58.825170Z",
     "start_time": "2023-07-02T09:40:58.809674Z"
    }
   },
   "outputs": [],
   "source": [
    "#Does not allow duplicate items\n",
    "s = {10,10,10,22,32,True}"
   ]
  },
  {
   "cell_type": "code",
   "execution_count": 53,
   "id": "7295fc4f",
   "metadata": {
    "ExecuteTime": {
     "end_time": "2023-07-02T09:41:05.840827Z",
     "start_time": "2023-07-02T09:41:05.819756Z"
    }
   },
   "outputs": [
    {
     "data": {
      "text/plain": [
       "{True, 10, 22, 32}"
      ]
     },
     "execution_count": 53,
     "metadata": {},
     "output_type": "execute_result"
    }
   ],
   "source": [
    "s"
   ]
  },
  {
   "cell_type": "code",
   "execution_count": null,
   "id": "037e0a3f",
   "metadata": {
    "ExecuteTime": {
     "end_time": "2022-11-24T06:13:49.077961Z",
     "start_time": "2022-11-24T06:13:49.060237Z"
    }
   },
   "outputs": [],
   "source": [
    "#Does not support indexing"
   ]
  },
  {
   "cell_type": "code",
   "execution_count": 54,
   "id": "b447f18f",
   "metadata": {
    "ExecuteTime": {
     "end_time": "2023-07-02T09:41:43.092727Z",
     "start_time": "2023-07-02T09:41:43.058409Z"
    }
   },
   "outputs": [
    {
     "ename": "TypeError",
     "evalue": "'set' object is not subscriptable",
     "output_type": "error",
     "traceback": [
      "\u001b[1;31m---------------------------------------------------------------------------\u001b[0m",
      "\u001b[1;31mTypeError\u001b[0m                                 Traceback (most recent call last)",
      "\u001b[1;32m~\\AppData\\Local\\Temp\\ipykernel_25740\\2635755408.py\u001b[0m in \u001b[0;36m<module>\u001b[1;34m\u001b[0m\n\u001b[1;32m----> 1\u001b[1;33m \u001b[0ms\u001b[0m\u001b[1;33m[\u001b[0m\u001b[1;36m2\u001b[0m\u001b[1;33m]\u001b[0m\u001b[1;33m\u001b[0m\u001b[1;33m\u001b[0m\u001b[0m\n\u001b[0m",
      "\u001b[1;31mTypeError\u001b[0m: 'set' object is not subscriptable"
     ]
    }
   ],
   "source": [
    "s[2]"
   ]
  },
  {
   "cell_type": "code",
   "execution_count": 55,
   "id": "e982d040",
   "metadata": {
    "ExecuteTime": {
     "end_time": "2023-07-02T09:42:07.907429Z",
     "start_time": "2023-07-02T09:42:07.898463Z"
    }
   },
   "outputs": [
    {
     "data": {
      "text/plain": [
       "{10, 22, 32, 'ABC', True}"
      ]
     },
     "execution_count": 55,
     "metadata": {},
     "output_type": "execute_result"
    }
   ],
   "source": [
    "#Add\n",
    "s.add('ABC')\n",
    "s"
   ]
  },
  {
   "cell_type": "code",
   "execution_count": 56,
   "id": "8c391c81",
   "metadata": {
    "ExecuteTime": {
     "end_time": "2023-07-02T09:42:40.315859Z",
     "start_time": "2023-07-02T09:42:40.297160Z"
    }
   },
   "outputs": [],
   "source": [
    "a = {'apple','mango','cherry'}\n",
    "b = {'microsoft','google','cherry'}"
   ]
  },
  {
   "cell_type": "code",
   "execution_count": null,
   "id": "9ce516fe",
   "metadata": {
    "ExecuteTime": {
     "end_time": "2022-11-08T05:22:28.944927Z",
     "start_time": "2022-11-08T05:22:28.921609Z"
    }
   },
   "outputs": [],
   "source": [
    "#Difference"
   ]
  },
  {
   "cell_type": "code",
   "execution_count": 57,
   "id": "49bae41c",
   "metadata": {
    "ExecuteTime": {
     "end_time": "2023-07-02T09:42:49.869201Z",
     "start_time": "2023-07-02T09:42:49.849051Z"
    }
   },
   "outputs": [
    {
     "data": {
      "text/plain": [
       "{'apple', 'mango'}"
      ]
     },
     "execution_count": 57,
     "metadata": {},
     "output_type": "execute_result"
    }
   ],
   "source": [
    "a.difference(b)"
   ]
  },
  {
   "cell_type": "code",
   "execution_count": 58,
   "id": "33654d08",
   "metadata": {
    "ExecuteTime": {
     "end_time": "2023-07-02T09:43:32.102142Z",
     "start_time": "2023-07-02T09:43:32.088473Z"
    }
   },
   "outputs": [
    {
     "data": {
      "text/plain": [
       "{'google', 'microsoft'}"
      ]
     },
     "execution_count": 58,
     "metadata": {},
     "output_type": "execute_result"
    }
   ],
   "source": [
    "b.difference(a)"
   ]
  },
  {
   "cell_type": "code",
   "execution_count": null,
   "id": "44760b14",
   "metadata": {},
   "outputs": [],
   "source": [
    "#intersection"
   ]
  },
  {
   "cell_type": "code",
   "execution_count": 59,
   "id": "f6bf3700",
   "metadata": {
    "ExecuteTime": {
     "end_time": "2023-07-02T09:43:45.194692Z",
     "start_time": "2023-07-02T09:43:45.187682Z"
    }
   },
   "outputs": [
    {
     "data": {
      "text/plain": [
       "{'cherry'}"
      ]
     },
     "execution_count": 59,
     "metadata": {},
     "output_type": "execute_result"
    }
   ],
   "source": [
    "a.intersection(b)"
   ]
  },
  {
   "cell_type": "code",
   "execution_count": null,
   "id": "124bfbb4",
   "metadata": {
    "ExecuteTime": {
     "end_time": "2022-11-08T05:22:29.351358Z",
     "start_time": "2022-11-08T05:22:29.327317Z"
    }
   },
   "outputs": [],
   "source": [
    "#union"
   ]
  },
  {
   "cell_type": "code",
   "execution_count": 60,
   "id": "23441104",
   "metadata": {
    "ExecuteTime": {
     "end_time": "2023-07-02T09:44:18.341838Z",
     "start_time": "2023-07-02T09:44:18.322245Z"
    }
   },
   "outputs": [
    {
     "data": {
      "text/plain": [
       "{'apple', 'cherry', 'google', 'mango', 'microsoft'}"
      ]
     },
     "execution_count": 60,
     "metadata": {},
     "output_type": "execute_result"
    }
   ],
   "source": [
    "a.union(b)"
   ]
  },
  {
   "cell_type": "code",
   "execution_count": null,
   "id": "de5eded3",
   "metadata": {
    "ExecuteTime": {
     "end_time": "2022-11-08T05:22:29.531807Z",
     "start_time": "2022-11-08T05:22:29.523810Z"
    }
   },
   "outputs": [],
   "source": [
    "#pop"
   ]
  },
  {
   "cell_type": "code",
   "execution_count": 61,
   "id": "a7c2f0aa",
   "metadata": {
    "ExecuteTime": {
     "end_time": "2023-07-02T09:44:49.675722Z",
     "start_time": "2023-07-02T09:44:49.660240Z"
    }
   },
   "outputs": [
    {
     "data": {
      "text/plain": [
       "'mango'"
      ]
     },
     "execution_count": 61,
     "metadata": {},
     "output_type": "execute_result"
    }
   ],
   "source": [
    "a.pop()"
   ]
  },
  {
   "cell_type": "code",
   "execution_count": null,
   "id": "7560c068",
   "metadata": {},
   "outputs": [],
   "source": []
  }
 ],
 "metadata": {
  "_draft": {
   "nbviewer_url": "https://gist.github.com/c7e48d2b0f85e662ce272c77589a4f43"
  },
  "gist": {
   "data": {
    "description": "ExcelR/Python_Basics.ipynb",
    "public": true
   },
   "id": "c7e48d2b0f85e662ce272c77589a4f43"
  },
  "kernelspec": {
   "display_name": "Python 3 (ipykernel)",
   "language": "python",
   "name": "python3"
  },
  "language_info": {
   "codemirror_mode": {
    "name": "ipython",
    "version": 3
   },
   "file_extension": ".py",
   "mimetype": "text/x-python",
   "name": "python",
   "nbconvert_exporter": "python",
   "pygments_lexer": "ipython3",
   "version": "3.9.13"
  }
 },
 "nbformat": 4,
 "nbformat_minor": 5
}
