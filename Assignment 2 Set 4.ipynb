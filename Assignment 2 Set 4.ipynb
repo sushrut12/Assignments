{
 "cells": [
  {
   "cell_type": "code",
   "execution_count": 4,
   "id": "5db5ebfc",
   "metadata": {},
   "outputs": [],
   "source": [
    "##Import library\n",
    "import matplotlib.pyplot as plt\n",
    "import pandas as pd\n",
    "import numpy as np\n",
    "import seaborn as sns\n",
    "import scipy.stats as stats\n",
    "import plotly.express as pe\n",
    "from scipy.stats import norm\n",
    "import scipy.stats as st\n",
    "from scipy.stats import skew\n",
    "from scipy.stats import kurtosis\n",
    "import warnings\n",
    "warnings.filterwarnings('ignore')\n",
    "%matplotlib inline\n",
    "plt.rcParams['figure.figsize'] = (10,5)\n",
    "plt.rcParams['figure.dpi'] = 200\n",
    "sns.set_theme(style='darkgrid')"
   ]
  },
  {
   "cell_type": "markdown",
   "id": "49c88d14",
   "metadata": {},
   "source": [
    "### Q1\n",
    "Examine the following normal Quantile plots carefully. Which of these plots indicates that the data …\n",
    "- Are nearly normal?\n",
    "    - B,C,D\n",
    "- Have a bimodal distribution? (One way to recognize a bimodal shape is a “gap” in the spacing of adjacent data values.)\n",
    "    - C,D\n",
    "- Are skewed (i.e. not symmetric) ?\n",
    "    - A\n",
    "- Have outliers on both sides of the center?\n",
    "    - A\n"
   ]
  },
  {
   "cell_type": "markdown",
   "id": "221d83cd",
   "metadata": {},
   "source": [
    "### Q2\n",
    "For each of the following statements, indicate whether it is True/False. If false, explain why.\n",
    "\n",
    "The manager of a warehouse monitors the volume of shipments made by the delivery team. The automated tracking system tracks every package as it moves through the facility. A sample of 25 packages is selected and weighed every day. Based on current contracts with customers, the weights should have μ = 22 lbs. and σ = 5 lbs.\n",
    "\n",
    "1. Before using a normal model for the sampling distribution of the average package weights, the manager must confirm that weights of individual packages are normally distributed.\n",
    "    - True: This statement is true. To use the normal model for the sampling distribution of the sample mean (central limit theorem), it's generally important to confirm that the individual weights of the packages follow a normal distribution. While the central limit theorem allows the sampling distribution of the mean to be approximately normal for sufficiently large sample sizes (typically n ≥ 30) due to the law of large numbers, ensuring normality in the individual data is a necessary assumption for accurate inference, especially for smaller sample sizes.\n",
    "2. The standard error of the daily average SE(x) = 1.\n",
    "    - True"
   ]
  },
  {
   "cell_type": "code",
   "execution_count": 5,
   "id": "50f4e823",
   "metadata": {},
   "outputs": [
    {
     "name": "stdout",
     "output_type": "stream",
     "text": [
      "The standard error of the daily average is approximately 1.00 pounds\n"
     ]
    }
   ],
   "source": [
    "import math\n",
    "\n",
    "# Given values\n",
    "population_standard_deviation = 5  # Population standard deviation\n",
    "sample_size = 25  # Sample size\n",
    "\n",
    "# Calculate the standard error of the sample mean\n",
    "standard_error_sample_mean = population_standard_deviation / math.sqrt(sample_size)\n",
    "\n",
    "print(f\"The standard error of the daily average is approximately {standard_error_sample_mean:.2f} pounds\")\n"
   ]
  },
  {
   "cell_type": "markdown",
   "id": "a94378ab",
   "metadata": {},
   "source": [
    "### Q3\n",
    "Auditors at a small community bank randomly sample 100 withdrawal transactions made during the week at an ATM machine located near the bank’s main branch. Over the past 2 years, the average withdrawal amount has been $50 with a standard deviation of $40. Since audit investigations are typically expensive, the auditors decide to not initiate further investigations if the mean transaction amount of the sample is between $45 and $55. What is the probability that in any given week, there will be an investigation?\n",
    "\n",
    "1.25%\n",
    "2.5%\n",
    "10.55%\n",
    "21.1%\n",
    "50%\n"
   ]
  },
  {
   "cell_type": "code",
   "execution_count": 6,
   "id": "56944ddc",
   "metadata": {},
   "outputs": [
    {
     "name": "stdout",
     "output_type": "stream",
     "text": [
      "The probability of an investigation is approximately 21.13%\n"
     ]
    }
   ],
   "source": [
    "# Given values\n",
    "population_mean = 50\n",
    "standard_deviation = 40\n",
    "sample_size = 100\n",
    "lower_limit = 45\n",
    "upper_limit = 55\n",
    "\n",
    "# Calculate standard error\n",
    "standard_error = standard_deviation / (sample_size ** 0.5)\n",
    "\n",
    "# Calculate Z-scores\n",
    "Z_lower = (lower_limit - population_mean) / standard_error\n",
    "Z_upper = (upper_limit - population_mean) / standard_error\n",
    "\n",
    "# Calculate probability of investigation (outside the range)\n",
    "probability_investigation = stats.norm.cdf(Z_lower) + (1 - stats.norm.cdf(Z_upper))\n",
    "\n",
    "# Convert probability to percentage\n",
    "probability_percentage = probability_investigation * 100\n",
    "\n",
    "print(f\"The probability of an investigation is approximately {probability_percentage:.2f}%\")\n"
   ]
  },
  {
   "cell_type": "markdown",
   "id": "75f7e98c",
   "metadata": {},
   "source": [
    "### Q4\n",
    "The auditors from the above example would like to maintain the probability of investigation to 5%. Which of the following represents the minimum number transactions that they should sample if they do not want to change the thresholds of 45 and 55? Assume that the sample statistics remain unchanged.\n",
    "\n",
    "- 144\n",
    "- 150\n",
    "- 196\n",
    "- 250\n",
    "- Not enough information\n"
   ]
  },
  {
   "cell_type": "code",
   "execution_count": 7,
   "id": "5ad7101b",
   "metadata": {},
   "outputs": [
    {
     "name": "stdout",
     "output_type": "stream",
     "text": [
      "The minimum number of transactions needed is approximately 246\n"
     ]
    }
   ],
   "source": [
    "import scipy.stats as stats\n",
    "\n",
    "# Given values\n",
    "population_mean = 50\n",
    "standard_deviation = 40\n",
    "lower_limit = 45\n",
    "upper_limit = 55\n",
    "desired_probability = 0.05  # 5% probability\n",
    "\n",
    "# Calculate the Z-scores for the lower and upper limits\n",
    "Z_lower = stats.norm.ppf(desired_probability / 2)\n",
    "Z_upper = stats.norm.ppf(1 - desired_probability / 2)\n",
    "\n",
    "# Calculate the standard error\n",
    "standard_error = (upper_limit - lower_limit) / (Z_upper - Z_lower)\n",
    "\n",
    "# Calculate the required sample size\n",
    "required_sample_size = ((standard_deviation / standard_error) ** 2)\n",
    "required_sample_size = round(required_sample_size)  # Round to the nearest whole number\n",
    "\n",
    "print(f\"The minimum number of transactions needed is approximately {required_sample_size}\")\n"
   ]
  },
  {
   "cell_type": "markdown",
   "id": "5afae5df",
   "metadata": {},
   "source": [
    "### Q5 \n",
    "An educational startup that helps MBA aspirants write their essays is targeting individuals who have taken GMAT in 2012 and have expressed interest in applying to FT top 20 b-schools. There are 40000 such individuals with an average GMAT score of 720 and a standard deviation of 120. The scores are distributed between 650 and 790 with a very long and thin tail towards the higher end resulting in substantial skewness. Which of the following is likely to be true for randomly chosen samples of aspirants?\n",
    "\n",
    "- The standard deviation of the scores within any sample will be 120.\n",
    "    - False: The standard deviation within a sample is not fixed at 120. It depends on the actual scores present in that specific sample. While the population standard deviation is 120, individual samples may have different standard deviations based on the variation within each sample.\n",
    "- The standard deviation of the mean of across several samples will be 120.\n",
    "    - False: The standard deviation of the sample means across multiple samples (known as the standard error of the mean) decreases as the sample size increases. It is not equal to the population standard deviation of 120, especially for larger sample sizes.\n",
    "- The mean score in any sample will be 720.\n",
    "    - False: While the population mean is 720, the mean score within any randomly chosen sample may vary around this value due to sampling variability.\n",
    "- The average of the mean across several samples will be 720.\n",
    "    - True: The central limit theorem states that as the number of samples increases, the distribution of sample means approaches a normal distribution centered around the population mean. Hence, the average of the mean scores across several samples will tend to converge towards the population mean of 720.\n",
    "- The standard deviation of the mean across several samples will be 0.60\n",
    "    - False: The standard deviation of the sample means across multiple samples (standard error of the mean) is not 0.60. The actual standard error depends on the population standard deviation and sample sizes, and it is not fixed at 0.60.\n"
   ]
  },
  {
   "cell_type": "code",
   "execution_count": null,
   "id": "5443a1f7",
   "metadata": {},
   "outputs": [],
   "source": []
  }
 ],
 "metadata": {
  "kernelspec": {
   "display_name": "Python 3 (ipykernel)",
   "language": "python",
   "name": "python3"
  },
  "language_info": {
   "codemirror_mode": {
    "name": "ipython",
    "version": 3
   },
   "file_extension": ".py",
   "mimetype": "text/x-python",
   "name": "python",
   "nbconvert_exporter": "python",
   "pygments_lexer": "ipython3",
   "version": "3.11.4"
  }
 },
 "nbformat": 4,
 "nbformat_minor": 5
}
