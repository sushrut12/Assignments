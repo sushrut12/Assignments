{
 "cells": [
  {
   "cell_type": "markdown",
   "id": "de6639c0",
   "metadata": {},
   "source": [
    "### Q3\n",
    "The time required for servicing transmissions is normally distributed with μ = 45 minutes and σ = 8 minutes. The service manager plans to have work begin on the transmission of a customer’s car 10 minutes after the car is dropped off and the customer is told that the car will be ready within 1 hour from drop-off. What is the probability that the service manager cannot meet his commitment? \n",
    "\n",
    "0.3875   \n",
    "0.2676   \n",
    "0.5   \n",
    "0.6987 \n"
   ]
  },
  {
   "cell_type": "code",
   "execution_count": 3,
   "id": "e5fee65f",
   "metadata": {},
   "outputs": [],
   "source": [
    "##Import library\n",
    "import matplotlib.pyplot as plt\n",
    "import pandas as pd\n",
    "import numpy as np\n",
    "import seaborn as sns\n",
    "import plotly.express as pe\n",
    "from scipy.stats import norm\n",
    "import scipy.stats as st\n",
    "from scipy.stats import skew\n",
    "from scipy.stats import kurtosis\n",
    "import warnings\n",
    "warnings.filterwarnings('ignore')\n",
    "%matplotlib inline\n",
    "plt.rcParams['figure.figsize'] = (10,5)\n",
    "plt.rcParams['figure.dpi'] = 200\n",
    "sns.set_theme(style='darkgrid')"
   ]
  },
  {
   "cell_type": "code",
   "execution_count": 4,
   "id": "5ce6cacc",
   "metadata": {},
   "outputs": [
    {
     "name": "stdout",
     "output_type": "stream",
     "text": [
      "The probability that the service manager cannot meet his commitment: 0.0304\n"
     ]
    }
   ],
   "source": [
    "\n",
    "\n",
    "# Given data\n",
    "mean = 45  # Mean\n",
    "std_dev = 8  # Standard Deviation\n",
    "time_limit = 60  # Time limit in minutes\n",
    "\n",
    "# Calculate Z-score\n",
    "z_score = (time_limit - mean) / std_dev\n",
    "\n",
    "# Calculate the probability using the cumulative distribution function (1 - CDF)\n",
    "probability = 1 - norm.cdf(z_score)\n",
    "\n",
    "print(f\"The probability that the service manager cannot meet his commitment: {probability:.4f}\")\n"
   ]
  },
  {
   "cell_type": "markdown",
   "id": "1af64927",
   "metadata": {},
   "source": [
    "### Q2\n",
    "The current age (in years) of 400 clerical employees at an insurance claims processing center is normally distributed with mean μ = 38 and Standard deviation σ =6. For each statement below, please specify True/False. If false, briefly explain why.\n"
   ]
  },
  {
   "cell_type": "markdown",
   "id": "db4de4ba",
   "metadata": {},
   "source": [
    "1. More employees at the processing center are older than 44 than between 38 and 44."
   ]
  },
  {
   "cell_type": "code",
   "execution_count": 5,
   "id": "ef013a53",
   "metadata": {},
   "outputs": [
    {
     "name": "stdout",
     "output_type": "stream",
     "text": [
      "Probability of an employee being older than 44: 0.1587\n",
      "Probability of an employee being between 38 and 44: -0.3413\n",
      "More employees are older than 44 than between 38 and 44: True\n"
     ]
    }
   ],
   "source": [
    "\n",
    "\n",
    "# Given data\n",
    "mean = 38  # Mean\n",
    "std_dev = 6  # Standard Deviation\n",
    "\n",
    "# Z-score for 44 years\n",
    "z_44 = (44 - mean) / std_dev\n",
    "\n",
    "# Probability of an employee being older than 44\n",
    "prob_older_than_44 = 1 - norm.cdf(z_44)\n",
    "\n",
    "# Z-score for 38 years\n",
    "z_38 = (38 - mean) / std_dev\n",
    "\n",
    "# Probability of an employee being older than 38\n",
    "prob_older_than_38 = 1 - norm.cdf(z_38)\n",
    "\n",
    "# Probability of an employee being between 38 and 44\n",
    "prob_between_38_and_44 = prob_older_than_44 - prob_older_than_38\n",
    "\n",
    "# Compare the probabilities\n",
    "more_older_than_44 = prob_older_than_44 > prob_between_38_and_44\n",
    "\n",
    "print(f\"Probability of an employee being older than 44: {prob_older_than_44:.4f}\")\n",
    "print(f\"Probability of an employee being between 38 and 44: {prob_between_38_and_44:.4f}\")\n",
    "print(f\"More employees are older than 44 than between 38 and 44: {more_older_than_44}\")\n"
   ]
  },
  {
   "cell_type": "markdown",
   "id": "3cfb279d",
   "metadata": {},
   "source": [
    "2. A training program for employees under the age of 30 at the center would be expected to attract about 36 employees."
   ]
  },
  {
   "cell_type": "code",
   "execution_count": 8,
   "id": "7b47133d",
   "metadata": {},
   "outputs": [
    {
     "name": "stdout",
     "output_type": "stream",
     "text": [
      "Probability of an employee's age being less than 30: 0.0912\n",
      "Estimated number of employees under the age of 30: 36\n"
     ]
    }
   ],
   "source": [
    "\n",
    "\n",
    "# Given data\n",
    "mean = 38  # Mean\n",
    "std_dev = 6  # Standard Deviation\n",
    "\n",
    "# Calculate the Z-score for age 30\n",
    "z_30 = (30 - mean) / std_dev\n",
    "\n",
    "# Probability of an employee's age being less than 30\n",
    "prob_under_30 = norm.cdf(z_30)\n",
    "\n",
    "# Total number of employees\n",
    "total_employees = 400\n",
    "\n",
    "# Estimate the number of employees under the age of 30\n",
    "employees_under_30 = round(total_employees * prob_under_30)\n",
    "\n",
    "print(f\"Probability of an employee's age being less than 30: {prob_under_30:.4f}\")\n",
    "print(f\"Estimated number of employees under the age of 30: {employees_under_30}\")\n"
   ]
  },
  {
   "cell_type": "markdown",
   "id": "f24098ec",
   "metadata": {},
   "source": [
    "### Q3\n",
    "If X1 ~ N(μ, σ2) and X2 ~ N(μ, σ2) are iid normal random variables, then what is the difference between 2 X1 and X1 + X2? Discuss both their distributions and parameters. "
   ]
  },
  {
   "cell_type": "markdown",
   "id": "2bb1dd04",
   "metadata": {},
   "source": [
    "\n",
    "Let's consider the following:\n",
    "\n",
    "Given two independent and identically distributed (iid) normal random variables:\n",
    "X1 ~ N(μ, σ2) and X2 ~ N(μ, σ2)\n",
    "We want to find the distributions and parameters for the random variables \n",
    "2X1 and X1+X2\n",
    "2X1 If \n",
    "X1 is a normal random variable with mean μ and variance σ2 then 2x1 will also be a normal random variable.\n",
    "Mean on 2X1 will be 2μ and variance will be 4σ2 \n",
    "X1+X2\n",
    "The sum of two independent normal random variables is also a normal random variable.\n",
    "Mean μ' = μ + μ = 2μ\n",
    "Variance σ'2 = σ2+σ2 = 2σ2\n",
    "Comparison:\n",
    "- Both follow normal distriution\n",
    "- 2X1 has mean of 2μ and variance of 4σ2\n",
    "- X1+X2 has mean of 2μ and variance of 2σ2\n",
    "Both random variables have the same mean 2μ but 2X1 has larger variance of 4σ2\n",
    "his indicates that the spread or variability of 2X1 around its mean is higher than that of X1+X2"
   ]
  },
  {
   "cell_type": "markdown",
   "id": "c7ef673c",
   "metadata": {},
   "source": [
    "## Q4\n",
    "Let X ~ N(100, 202). Find two values, a and b, symmetric about the mean, such that the probability of the random variable taking a value between them is 0.99. \n",
    "- A. 90.5, 105.9 \n",
    "- B. 80.2, 119.8 \n",
    "- C. 22, 78 \n",
    "- D. 48.5, 151.5 \n",
    "- E. 90.1, 109.9\n"
   ]
  },
  {
   "cell_type": "code",
   "execution_count": 9,
   "id": "94872c2a",
   "metadata": {},
   "outputs": [
    {
     "name": "stdout",
     "output_type": "stream",
     "text": [
      "The values 'a' and 'b' symmetric about the mean are: 48.48 and 151.52\n"
     ]
    }
   ],
   "source": [
    "\n",
    "\n",
    "# Given data\n",
    "mean = 100\n",
    "std_dev = 20\n",
    "\n",
    "# Probability for each tail (0.005 on each side for 0.99 in the middle)\n",
    "probability = (1 - 0.99) / 2\n",
    "\n",
    "# Find the z-score for the given probability\n",
    "z_score = norm.ppf(1 - probability)\n",
    "\n",
    "# Calculate the values 'a' and 'b' symmetrically around the mean\n",
    "a = mean - z_score * std_dev  # Lower value\n",
    "b = mean + z_score * std_dev  # Upper value\n",
    "\n",
    "print(f\"The values 'a' and 'b' symmetric about the mean are: {a:.2f} and {b:.2f}\")\n"
   ]
  },
  {
   "cell_type": "markdown",
   "id": "18ca348c",
   "metadata": {},
   "source": [
    "### Q5\n",
    "Consider a company that has two different divisions. The annual profits from the two divisions are independent and have distributions Profit1 ~ N(5, 32) and Profit2 ~ N(7, 42) respectively. Both the profits are in $ Million. Answer the following questions about the total profit of the company in Rupees. Assume that $1 = Rs. 45\n",
    "- Specify a Rupee range (centered on the mean) such that it contains 95% probability for the annual profit of the company.\n",
    "- Specify the 5th percentile of profit (in Rupees) for the company\n",
    "- Which of the two divisions has a larger probability of making a loss in a given year?\n"
   ]
  },
  {
   "cell_type": "code",
   "execution_count": 10,
   "id": "0b4643bb",
   "metadata": {},
   "outputs": [
    {
     "name": "stdout",
     "output_type": "stream",
     "text": [
      "Rupee range containing 95% probability for the annual profit: Rs. 523.14 to Rs. 556.86 Million\n"
     ]
    }
   ],
   "source": [
    "\n",
    "# Given data\n",
    "mean_profit1 = 5  # Mean of Profit1 in $ Million\n",
    "variance_profit1 = 32  # Variance of Profit1 in $ Million\n",
    "mean_profit2 = 7  # Mean of Profit2 in $ Million\n",
    "variance_profit2 = 42  # Variance of Profit2 in $ Million\n",
    "exchange_rate = 45  # $1 = Rs. 45\n",
    "\n",
    "# Calculate mean and standard deviation of the total profit in dollars\n",
    "mean_total_profit = mean_profit1 + mean_profit2\n",
    "variance_total_profit = variance_profit1 + variance_profit2\n",
    "std_dev_total_profit = (variance_total_profit) ** 0.5\n",
    "\n",
    "# Convert mean total profit from dollars to rupees\n",
    "mean_total_profit_rupees = mean_total_profit * exchange_rate\n",
    "\n",
    "# Calculate the rupee range containing 95% probability centered on the mean\n",
    "lower_bound_rupees, upper_bound_rupees = norm.interval(0.95, loc=mean_total_profit_rupees, scale=std_dev_total_profit)\n",
    "\n",
    "print(f\"Rupee range containing 95% probability for the annual profit: Rs. {lower_bound_rupees:.2f} to Rs. {upper_bound_rupees:.2f} Million\")\n"
   ]
  },
  {
   "cell_type": "code",
   "execution_count": 11,
   "id": "85842d7c",
   "metadata": {},
   "outputs": [
    {
     "name": "stdout",
     "output_type": "stream",
     "text": [
      "The 5th percentile of profit for the company in Rupees: Rs. -96.73 Million\n"
     ]
    }
   ],
   "source": [
    "# Calculate the 5th percentile of the total profit in dollars\n",
    "fifth_percentile_profit_dollars = norm.ppf(0.05, loc=mean_total_profit, scale=std_dev_total_profit)\n",
    "\n",
    "# Convert the 5th percentile of profit from dollars to rupees\n",
    "fifth_percentile_profit_rupees = fifth_percentile_profit_dollars * exchange_rate\n",
    "\n",
    "print(f\"The 5th percentile of profit for the company in Rupees: Rs. {fifth_percentile_profit_rupees:.2f} Million\")\n"
   ]
  },
  {
   "cell_type": "code",
   "execution_count": 12,
   "id": "364fff08",
   "metadata": {},
   "outputs": [
    {
     "name": "stdout",
     "output_type": "stream",
     "text": [
      "Probability of making a loss for Profit1: 0.1884\n",
      "Probability of making a loss for Profit2: 0.1400\n"
     ]
    }
   ],
   "source": [
    "# Calculate the probability of making a loss for each division\n",
    "prob_loss_profit1 = norm.cdf(0, loc=mean_profit1, scale=(variance_profit1) ** 0.5)\n",
    "prob_loss_profit2 = norm.cdf(0, loc=mean_profit2, scale=(variance_profit2) ** 0.5)\n",
    "\n",
    "print(f\"Probability of making a loss for Profit1: {prob_loss_profit1:.4f}\")\n",
    "print(f\"Probability of making a loss for Profit2: {prob_loss_profit2:.4f}\")\n"
   ]
  },
  {
   "cell_type": "code",
   "execution_count": null,
   "id": "c57cc31e",
   "metadata": {},
   "outputs": [],
   "source": []
  }
 ],
 "metadata": {
  "kernelspec": {
   "display_name": "Python 3 (ipykernel)",
   "language": "python",
   "name": "python3"
  },
  "language_info": {
   "codemirror_mode": {
    "name": "ipython",
    "version": 3
   },
   "file_extension": ".py",
   "mimetype": "text/x-python",
   "name": "python",
   "nbconvert_exporter": "python",
   "pygments_lexer": "ipython3",
   "version": "3.11.4"
  }
 },
 "nbformat": 4,
 "nbformat_minor": 5
}
