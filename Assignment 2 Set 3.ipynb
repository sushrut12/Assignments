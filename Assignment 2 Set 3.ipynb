{
 "cells": [
  {
   "cell_type": "code",
   "execution_count": 1,
   "id": "946dddd1",
   "metadata": {},
   "outputs": [],
   "source": [
    "##Import library\n",
    "import matplotlib.pyplot as plt\n",
    "import pandas as pd\n",
    "import numpy as np\n",
    "import seaborn as sns\n",
    "import plotly.express as pe\n",
    "from scipy.stats import norm\n",
    "import scipy.stats as st\n",
    "from scipy.stats import skew\n",
    "from scipy.stats import kurtosis\n",
    "import warnings\n",
    "warnings.filterwarnings('ignore')\n",
    "%matplotlib inline\n",
    "plt.rcParams['figure.figsize'] = (10,5)\n",
    "plt.rcParams['figure.dpi'] = 200\n",
    "sns.set_theme(style='darkgrid')"
   ]
  },
  {
   "cell_type": "markdown",
   "id": "d84694c1",
   "metadata": {},
   "source": [
    "### Q1\n",
    "For each of the following statements, indicate whether it is True/False. If false, explain why.\n",
    "\n",
    "The sample size of the survey should at least be a fixed percentage of the population size in order to produce representative results.\n",
    "- False: The representativeness of a sample is not solely determined by a fixed percentage of the population size. Instead, it depends on the sampling method used, ensuring that the sample is randomly selected or appropriately stratified to reflect the diversity and characteristics of the population. While a larger sample size generally reduces sampling error and improves precision, a fixed percentage might not be universally applicable across different populations or research contexts. Factors like population variability, desired level of confidence, and margin of error also influence sample size determination.\n",
    "\n",
    "The sampling frame is a list of every item that appears in a survey sample, including those that did not respond to questions.\n",
    "- False: The sampling frame refers to a list or description of the population from which the sample is drawn. It is not the same as the survey sample itself. It includes all elements or individuals that have a chance of being included in the sample, whether they respond to the survey or not. The sampling frame serves as the basis for selecting the sample, ensuring that the sample accurately represents the population. Items that did not respond are not part of the sampling frame but are part of the population.\n",
    "\n",
    "Larger surveys convey a more accurate impression of the population than smaller surveys.\n",
    "- True: Larger surveys tend to provide a more accurate estimate of the population parameters compared to smaller surveys. Larger sample sizes reduce sampling error, which is the variability that occurs due to randomly selecting a subset of the population rather than surveying the entire population. However, while larger surveys offer more precision and reduce sampling variability, other types of errors (such as non-sampling errors) may still affect accuracy. It's essential to consider the trade-offs between sample size, cost, practicality, and the desired level of precision when conducting surveys.\n"
   ]
  },
  {
   "cell_type": "markdown",
   "id": "48214c35",
   "metadata": {},
   "source": [
    "### Q2\n",
    "PC Magazine asked all of its readers to participate in a survey of their satisfaction with different brands of electronics. In the 2004 survey, which was included in an issue of the magazine that year, more than 9000 readers rated the products on a scale from 1 to 10. The magazine reported that the average rating assigned by 225 readers to a Kodak compact digital camera was 7.5. For this product, identify the following:\n",
    "\n",
    "#### The population\n",
    "- The population in this context refers to the entire group that the survey aims to represent. In this case, the population consists of all readers of PC Magazine who have an interest in electronics and participated in the survey.\n",
    "#### The parameter of interest\n",
    "- The parameter of interest is the characteristic or measure that the survey seeks to estimate about the population. Here, the parameter of interest could be the average satisfaction rating given by all PC Magazine readers to Kodak compact digital cameras.\n",
    "#### The sampling frame\n",
    "- The sampling frame is the list or description of the population elements from which the sample is drawn. In this scenario, the sampling frame would likely be the list of all PC Magazine readers who were invited to participate in the survey.\n",
    "#### The sample size\n",
    "- The sample size mentioned in the provided information is 225 readers who rated the Kodak compact digital camera.\n",
    "#### The sampling design\n",
    "- The sampling design refers to the method used to select the sample from the population. In this case, all readers of PC Magazine who were interested in participating in the survey were invited to rate the products, and 225 of them provided ratings for the Kodak compact digital camera. It seems to be a form of voluntary self-selection or convenience sampling where participants voluntarily choose to respond.\n",
    "#### Any potential sources of bias or other problems with the survey or sample\n",
    "- Self-selection Bias: Since participation in the survey was voluntary, it might introduce self-selection bias. People who have stronger opinions (either positive or negative) about the product might be more inclined to participate, leading to a biased representation of opinions.\n",
    "- Non-response Bias: Only 225 out of more than 9000 readers rated the Kodak camera. If those who chose not to participate have different opinions from those who did, it can introduce non-response bias.\n",
    "- Sampling Bias: The survey respondents are readers of PC Magazine, which may not represent the entire population interested in electronics, potentially limiting the generalizability of the findings.\n",
    "- Scale Interpretation: The rating scale (from 1 to 10) might be subject to interpretation differences among respondents, impacting the consistency of ratings.\n"
   ]
  },
  {
   "cell_type": "markdown",
   "id": "96d3362f",
   "metadata": {},
   "source": [
    "### Q3\n",
    "For each of the following statements, indicate whether it is True/False. If false, explain why.\n",
    "\n",
    "#### If the 95% confidence interval for the average purchase of customers at a department store is 50 dollar to 110 dollar, then 100 dollar is a plausible value for the population mean at this level of confidence.\n",
    "- True: If the 95 percent confidence interval for the average purchase is $50 to $110, it means that we are 95 percent confident that the true population mean lies within this interval. Therefore, $100 falls within this interval and is a plausible value for the population mean at the 95% confidence level.\n",
    "\n",
    "If the 95percent confidence interval for the number of moviegoers who purchase concessions is 30percent to 45perent, this means that fewer than half of all moviegoers purchase concessions.\n",
    "- False: A 95percent confidence interval (30percent to 45percent) for the proportion of moviegoers who purchase concessions provides a range of plausible values for the true population proportion. It does not imply that the true proportion is necessarily closer to the lower or higher bound of the interval. The range (30percent to 45percent) includes the possibility that more than half of all moviegoers purchase concessions, as the true proportion might fall anywhere within this interval.\n",
    "\n",
    "The 95percent Confidence-Interval for μ only applies if the sample data are nearly normally distributed.\n",
    "- False: The Central Limit Theorem states that the sampling distribution of the sample mean tends to be approximately normally distributed, regardless of the distribution of the population, given a sufficiently large sample size. For large sample sizes (typically n ≥ 30), the 95percent confidence interval for the population mean (μ) can be computed using the sample mean and standard error, even if the population distribution is not normal. This is because of the properties of the sampling distribution of the sample mean, not necessarily the distribution of the population data.\n"
   ]
  },
  {
   "cell_type": "markdown",
   "id": "bcfcda0e",
   "metadata": {},
   "source": [
    "### Q4\n",
    "What are the chances that Xbar > μ?\n",
    "\n",
    "¼ \n",
    "½ \n",
    "¾ \n",
    "1\n",
    "\n",
    "- The specific probability of Xbar > μ epends on factors like the population distribution, the sampling method, sample size, and the variability of sample means around the population mean. In many cases, with a random and sufficiently large sample size, Xbar tends to be closer to μ, following the properties of the Central Limit Theorem. However, the exact probability without specific information about the distribution and context is uncertain."
   ]
  },
  {
   "cell_type": "markdown",
   "id": "31cae36a",
   "metadata": {},
   "source": [
    "### Q5\n",
    "In January 2005, a company that monitors Internet traffic (WebSideStory) reported that its sampling revealed that the Mozilla Firefox browser launched in 2004 had grabbed a 4.6% share of the market.\n",
    "\n",
    "1. If the sample were based on 2,000 users, could Microsoft conclude that Mozilla has a less than 5% share of the market?\n",
    "\n",
    "2. WebSideStory claims that its sample includes all the daily Internet users. If that’s the case, then can Microsoft conclude that Mozilla has a less than 5% share of the market?\n"
   ]
  },
  {
   "cell_type": "code",
   "execution_count": 2,
   "id": "1c393b96",
   "metadata": {},
   "outputs": [
    {
     "name": "stdout",
     "output_type": "stream",
     "text": [
      "Z-test statistic: -0.8208\n"
     ]
    }
   ],
   "source": [
    "import math\n",
    "\n",
    "# Given data\n",
    "sample_proportion = 0.046\n",
    "hypothesized_proportion = 0.05\n",
    "sample_size = 2000\n",
    "\n",
    "# Calculate the z-test statistic\n",
    "z_test_statistic = (sample_proportion - hypothesized_proportion) / math.sqrt((hypothesized_proportion * (1 - hypothesized_proportion)) / sample_size)\n",
    "\n",
    "print(f\"Z-test statistic: {z_test_statistic:.4f}\")\n"
   ]
  },
  {
   "cell_type": "markdown",
   "id": "8d56881a",
   "metadata": {},
   "source": [
    "##### Results and Conclusion:\n",
    "If the calculated z-test statistic is sufficiently small (i.e., far enough to the left on the z-distribution), we would reject the null hypothesis in favor of the alternative hypothesis.\n",
    "This means that there is enough evidence to suggest that the proportion of Mozilla Firefox users in the population is less than 5%.\n",
    "##### Regarding WebSideStorys Claim:\n",
    "If WebSideStorys claim holds true, including all daily Internet users in their sample, and the sample size is indeed representative of the entire population, then the conclusion drawn from the sample might extend to the entire population.\n",
    "Microsoft could potentially conclude that Mozilla has less than a 5% share of the market based on this information, provided the sampling is truly representative of all daily Internet users."
   ]
  },
  {
   "cell_type": "markdown",
   "id": "cd61ce09",
   "metadata": {},
   "source": [
    "### Q6\n",
    "A book publisher monitors the size of shipments of its textbooks to university bookstores. For a sample of texts used at various schools, the 95% confidence interval for the size of the shipment was 250 ± 45 books. Which, if any, of the following interpretations of this interval are correct?\n",
    "\n",
    "All shipments are between 205 and 295 books.\n",
    "- False: The 95% confidence interval (250 ± 45 books) does not imply that every single shipment falls within the interval. It provides a range within which the true population mean (average size of shipments) is estimated to lie with 95% confidence. Individual shipments may vary and are not guaranteed to fall within this specific interval.\n",
    "\n",
    "95% of shipments are between 205 and 295 books.\n",
    "- False: Similar to the first interpretation, the confidence interval does not represent individual shipments but rather a range that estimates the population mean. It does not address the percentage or proportion of individual shipments within this range.\n",
    "\n",
    "The procedure that produced this interval generates ranges that hold the population mean for 95% of samples.\n",
    "- True: This interpretation correctly reflects the essence of a 95% confidence interval. In repeated sampling, the procedure used will generate intervals that capture the true population mean 95% of the time. It means that if we were to take multiple samples and construct confidence intervals, 95% of these intervals would contain the true population mean.\n",
    "\n",
    "If we get another sample, then we can be 95% sure that the mean of this second sample is between 205 and 295.\n",
    "- False: The interpretation of a confidence interval does not apply to individual samples. It addresses the process of constructing intervals for population parameters in repeated sampling, not for individual sample means.\n",
    "\n",
    "We can be 95% confident that the range 160 to 340 holds the population mean.\n",
    "- False: The given confidence interval (250 ± 45 books) is 95% confident that the true population mean falls between 205 and 295 books, not between 160 and 340 books. Confidence intervals provide an estimated range for the population parameter, not other arbitrary ranges."
   ]
  },
  {
   "cell_type": "markdown",
   "id": "2d41b1a1",
   "metadata": {},
   "source": [
    "### Q7\n",
    "Which is shorter: a 95% z-interval or a 95% t-interval for μ if we know that σ =s?\n",
    "\n",
    "- The z-interval is shorter\n",
    "- The t-interval is shorter\n",
    "- Both are equal\n",
    "- We cannot say\n"
   ]
  },
  {
   "cell_type": "markdown",
   "id": "6406756b",
   "metadata": {},
   "source": [
    "When comparing a 95% z-interval and a 95% t-interval for the population mean when the population standard deviation is estimated by the sample standard deviation, the t-interval tends to be wider than the z-interval. This is because the t-distribution has heavier tails than the standard normal distribution (z-distribution), resulting in wider intervals.\n",
    "\n",
    "The t-distribution accounts for the additional uncertainty introduced by estimating the population standard deviation from the sample standard deviation. When sample size is small (typically when n is less than 30), the t-distribution has fatter tails, requiring wider intervals to accommodate the increased variability compared to the z-distribution.\n",
    "\n",
    "Therefore, in this scenario:\n",
    "- **The t-interval is shorter** would be an incorrect statement.\n",
    "- **The z-interval is shorter** is the correct answer.\n",
    "\n",
    "The z-interval tends to be narrower than the t-interval when estimating the population mean under conditions where the population standard deviation is estimated by the sample standard deviation (i.e., when ( σ = s )) due to the assumptions of the respective distributions (normal distribution for z, t-distribution for t)."
   ]
  },
  {
   "cell_type": "markdown",
   "id": "37635768",
   "metadata": {},
   "source": [
    "### Q8\n",
    "Questions 8 and 9 are based on the following: To prepare a report on the economy, analysts need to estimate the percentage of businesses that plan to hire additional employees in the next 60 days.\n",
    "\n",
    "How many randomly selected employers (minimum number) must we contact in order to guarantee a margin of error of no more than 4% (at 95% confidence)?\n",
    "\n",
    "600\n",
    "400\n",
    "550\n",
    "1000\n"
   ]
  },
  {
   "cell_type": "code",
   "execution_count": 5,
   "id": "f614ac40",
   "metadata": {},
   "outputs": [
    {
     "name": "stdout",
     "output_type": "stream",
     "text": [
      "The minimum sample size needed is approximately 601\n"
     ]
    }
   ],
   "source": [
    "from math import ceil\n",
    "\n",
    "# Given values\n",
    "Z = 1.96  # Z-score for 95% confidence level\n",
    "p = 0.5  # Estimated proportion (use 0.5 for maximum variability)\n",
    "E = 0.04  # Margin of error\n",
    "\n",
    "# Calculate the minimum sample size\n",
    "n = (Z**2 * p * (1 - p)) / E**2\n",
    "minimum_sample_size = ceil(n)  # Round up to the nearest whole number\n",
    "\n",
    "print(f\"The minimum sample size needed is approximately {minimum_sample_size}\")\n"
   ]
  },
  {
   "cell_type": "markdown",
   "id": "f1a2f6a8",
   "metadata": {},
   "source": [
    "### Q9 \n",
    "Suppose we want the above margin of error to be based on a 98% confidence level. What sample size (minimum) must we now use?\n",
    "\n",
    "1000\n",
    "757\n",
    "848\n",
    "543\n"
   ]
  },
  {
   "cell_type": "code",
   "execution_count": 6,
   "id": "05e95a6a",
   "metadata": {},
   "outputs": [
    {
     "name": "stdout",
     "output_type": "stream",
     "text": [
      "The minimum sample size needed for a 98% confidence level is approximately 849\n"
     ]
    }
   ],
   "source": [
    "from math import ceil\n",
    "\n",
    "# Given values\n",
    "Z_98 = 2.33  # Z-score for 98% confidence level\n",
    "p = 0.5  # Estimated proportion (use 0.5 for maximum variability)\n",
    "E = 0.04  # Margin of error\n",
    "\n",
    "# Calculate the minimum sample size for 98% confidence level\n",
    "n_98 = (Z_98**2 * p * (1 - p)) / E**2\n",
    "minimum_sample_size_98 = ceil(n_98)  # Round up to the nearest whole number\n",
    "\n",
    "print(f\"The minimum sample size needed for a 98% confidence level is approximately {minimum_sample_size_98}\")\n"
   ]
  },
  {
   "cell_type": "code",
   "execution_count": null,
   "id": "2b32b028",
   "metadata": {},
   "outputs": [],
   "source": []
  }
 ],
 "metadata": {
  "kernelspec": {
   "display_name": "Python 3 (ipykernel)",
   "language": "python",
   "name": "python3"
  },
  "language_info": {
   "codemirror_mode": {
    "name": "ipython",
    "version": 3
   },
   "file_extension": ".py",
   "mimetype": "text/x-python",
   "name": "python",
   "nbconvert_exporter": "python",
   "pygments_lexer": "ipython3",
   "version": "3.11.4"
  }
 },
 "nbformat": 4,
 "nbformat_minor": 5
}
